{
 "cells": [
  {
   "cell_type": "code",
   "execution_count": 35,
   "metadata": {
    "collapsed": true,
    "ExecuteTime": {
     "end_time": "2024-01-19T15:30:15.324537Z",
     "start_time": "2024-01-19T15:30:15.324013Z"
    }
   },
   "outputs": [],
   "source": [
    "import hashlib\n",
    "from http.cookies import SimpleCookie\n",
    "import os\n",
    "import re\n",
    "\n",
    "import requests\n",
    "from requests.utils import cookiejar_from_dict\n",
    "from http.cookies import SimpleCookie\n",
    "from retrying import retry\n",
    "WEREAD_URL = \"https://weread.qq.com/\"\n",
    "WEREAD_BOOKSHELF_URL = \"https://i.weread.qq.com/shelf/sync\"\n",
    "WEREAD_NOTEBOOKS_URL = \"https://i.weread.qq.com/user/notebooks\"\n",
    "WEREAD_BOOKMARKLIST_URL = \"https://i.weread.qq.com/book/bookmarklist\"\n",
    "WEREAD_CHAPTER_INFO = \"https://i.weread.qq.com/book/chapterInfos\"\n",
    "WEREAD_READ_INFO_URL = \"https://i.weread.qq.com/book/readinfo\"\n",
    "WEREAD_REVIEW_LIST_URL = \"https://i.weread.qq.com/review/list\"\n",
    "WEREAD_BOOK_INFO = \"https://i.weread.qq.com/book/info\"\n",
    "WEREAD_READDATA_DETAIL = \"https://i.weread.qq.com/readdata/detail\"\n",
    "WEREAD_HISTORY_URL = \"https://i.weread.qq.com/readdata/summary?synckey=0\"\n",
    "WEREAD_COOKIE = \"RK=kdx1c2Bfcc; ptcz=4bd5699d870e04135d4f45a7d4079c6cda84922767e155260d4d6983b03e2fc7; pgv_pvid=3814241170; pt_sms_phone=157******16; eas_sid=J1e6m8x0I0w0R20746s613p7R2; logTrackKey=b9f12ca9e99640b4b55a8da61bca5d9a; pac_uid=0_ae25fa75804cb; iip=0; _t_qbtool_uid=aaaa9f43r46op2rp44y3h3m8ch3488cb; wr_fp=3977575132; wr_gid=217865908; wr_vid=18002960; wr_pf=0; wr_rt=web%40XU0_Wu5_r70uKClPhcN_AL; wr_localvid=a8c325f07112b410a8c5719; wr_name=wxz; wr_avatar=https%3A%2F%2Fthirdwx.qlogo.cn%2Fmmopen%2Fvi_32%2FFwlnOiaUzxcHaSd4SnNnMUhmHkjR093uYmkd6ibbjJZn0aaapd5n8VoE2icNibUyMJnVyIO2xjwicRIJBVr2Ubuy50BQlHicRoocGicnRvVPhtlyI4%2F132; wr_gender=1; wr_skey=CCqKlv5E\"\n",
    "\n",
    "HEADERS = \"\"\"\n",
    "Host: i.weread.qq.com\n",
    "Connection: keep-alive\n",
    "Upgrade-Insecure-Requests: 1\n",
    "User-Agent: Mozilla/5.0 (Windows NT 10.0; Win64; x64) AppleWebKit/537.36 (KHTML, like Gecko) Chrome/73.0.3683.103 Safari/537.36\n",
    "Accept: text/html,application/xhtml+xml,application/xml;q=0.9,image/webp,image/apng,*/*;q=0.8,application/signed-exchange;v=b3\n",
    "Accept-Encoding: gzip, deflate, br\n",
    "Accept-Language: zh-CN,zh;q=0.9,en;q=0.8\n",
    "\"\"\"\n",
    "HEADERS_DICT = dict(x.split(\": \", 1) for x in HEADERS.splitlines() if x)\n",
    "\n",
    "class WeReadApi:\n",
    "    def __init__(self):\n",
    "        self.cookie = WEREAD_COOKIE\n",
    "        self.session = requests.Session()\n",
    "        self.session.cookies = self.parse_cookie_string()\n",
    "\n",
    "    def get_cookies_dict(self):\n",
    "        cookie = SimpleCookie()\n",
    "        cookie.load(weread_api.cookie)\n",
    "        cookies_dict = {}\n",
    "        for key, morsel in cookie.items():\n",
    "            cookies_dict[key] = morsel.value\n",
    "        return cookies_dict\n",
    "\n",
    "    def parse_cookie_string(self):\n",
    "        cookie = SimpleCookie()\n",
    "        cookie.load(self.cookie)\n",
    "        cookies_dict = {}\n",
    "        cookiejar = None\n",
    "        for key, morsel in cookie.items():\n",
    "            cookies_dict[key] = morsel.value\n",
    "            cookiejar = cookiejar_from_dict(\n",
    "                cookies_dict, cookiejar=None, overwrite=True\n",
    "            )\n",
    "        return cookiejar\n",
    "\n",
    "    @retry(stop_max_attempt_number=3, wait_fixed=5000)\n",
    "    def get_bookshelf(self):\n",
    "        \"\"\"获取书架上所有书\"\"\"\n",
    "        self.session.get(WEREAD_URL)\n",
    "        cookies_dict = self.get_cookies_dict()\n",
    "        params = {\"userVid\":cookies_dict['wr_vid'],\"synckey\": 0,\"lectureSynckey\":0}\n",
    "        r = self.session.get(WEREAD_BOOKSHELF_URL, params=params, headers=HEADERS_DICT, cookies=cookies_dict, verify=False)\n",
    "        if r.ok:\n",
    "            data = r.json()\n",
    "            books = data.get(\"books\")\n",
    "            return books\n",
    "        else:\n",
    "            raise Exception(f\"Could not get bookshelf list {r.text}\")\n",
    "\n",
    "    @retry(stop_max_attempt_number=3, wait_fixed=5000)\n",
    "    def get_notebooklist(self):\n",
    "        \"\"\"获取笔记本列表\"\"\"\n",
    "        self.session.get(WEREAD_URL)\n",
    "        r = self.session.get(WEREAD_NOTEBOOKS_URL)\n",
    "        if r.ok:\n",
    "            data = r.json()\n",
    "            books = data.get(\"books\")\n",
    "            books.sort(key=lambda x: x[\"sort\"])\n",
    "            return books\n",
    "        else:\n",
    "            raise Exception(f\"Could not get notebook list {r.text}\")\n",
    "\n",
    "    @retry(stop_max_attempt_number=3, wait_fixed=5000)\n",
    "    def get_bookinfo(self, bookId):\n",
    "        \"\"\"获取书的详情\"\"\"\n",
    "        self.session.get(WEREAD_URL)\n",
    "        params = dict(bookId=bookId)\n",
    "        r = self.session.get(WEREAD_BOOK_INFO, params=params)\n",
    "        isbn = \"\"\n",
    "        if r.ok:\n",
    "            data = r.json()\n",
    "            isbn = data[\"isbn\"]\n",
    "            newRating = data[\"newRating\"] / 1000\n",
    "            return (isbn, newRating)\n",
    "        else:\n",
    "            return (\"\", 0)\n",
    "\n",
    "    # def get_bestbookmarks(bookId, cookies):\n",
    "    #     \"\"\"获取书籍的热门划线,返回文本\"\"\"\n",
    "    #     url = \"https://i.weread.qq.com/book/bestbookmarks\"\n",
    "    #     params = dict(bookId=bookId)\n",
    "    #     r = requests.get(url, params=params, headers=headers, cookies=cookies, verify=False)\n",
    "    #     if r.ok:\n",
    "    #         data = r.json()\n",
    "    #     else:\n",
    "    #         raise Exception(r.text)\n",
    "    #     chapters = {c[\"chapterUid\"]: c[\"title\"] for c in data[\"chapters\"]}\n",
    "    #     contents = defaultdict(list)\n",
    "    #     for item in data[\"items\"]:\n",
    "    #         chapter = item[\"chapterUid\"]\n",
    "    #         text = item[\"markText\"]\n",
    "    #         contents[chapter].append(text)\n",
    "    #\n",
    "    #     chapters_map = {title: level for level, title in get_chapters(int(bookId), cookies)}\n",
    "    #     res = \"\"\n",
    "    #     for c in chapters:\n",
    "    #         title = chapters[c]\n",
    "    #         res += \"#\" * chapters_map[title] + \" \" + title + \"\\n\"\n",
    "    #         for text in contents[c]:\n",
    "    #             res += \"> \" + text.strip() + \"\\n\\n\"\n",
    "    #         res += \"\\n\"\n",
    "    #     return res\n",
    "\n",
    "    @retry(stop_max_attempt_number=3, wait_fixed=5000)\n",
    "    def get_bookmark_list(self, bookId):\n",
    "        self.session.get(WEREAD_URL)\n",
    "        params = dict(bookId=bookId)\n",
    "        r = self.session.get(WEREAD_BOOKMARKLIST_URL, params=params)\n",
    "        if r.ok:\n",
    "            bookmarks = r.json().get(\"updated\")\n",
    "            return bookmarks\n",
    "        else:\n",
    "            raise Exception(f\"Could not get {bookId} bookmark list\")\n",
    "\n",
    "    @retry(stop_max_attempt_number=3, wait_fixed=5000)\n",
    "    def get_read_info(self, bookId):\n",
    "        self.session.get(WEREAD_URL)\n",
    "        params = dict(\n",
    "            bookId=bookId, readingDetail=1, readingBookIndex=1, finishedDate=1\n",
    "        )\n",
    "        r = self.session.get(WEREAD_READ_INFO_URL, params=params)\n",
    "        if r.ok:\n",
    "            return r.json()\n",
    "        else:\n",
    "            raise Exception(f\"get {bookId} read info failed {r.text}\")\n",
    "\n",
    "    @retry(stop_max_attempt_number=3, wait_fixed=5000)\n",
    "    def get_review_list(self, bookId):\n",
    "        self.session.get(WEREAD_URL)\n",
    "        params = dict(bookId=bookId, listType=11, mine=1, syncKey=0)\n",
    "        r = self.session.get(WEREAD_REVIEW_LIST_URL, params=params)\n",
    "        if r.ok:\n",
    "            reviews = r.json().get(\"reviews\")\n",
    "            reviews = list(map(lambda x: x.get(\"review\"), reviews))\n",
    "            reviews = [\n",
    "                {\"chapterUid\": 1000000, **x} if x.get(\"type\") == 4 else x\n",
    "                for x in reviews\n",
    "            ]\n",
    "            return reviews\n",
    "        else:\n",
    "            raise Exception(f\"get {bookId} review list failed {r.text}\")\n",
    "\n",
    "    @retry(stop_max_attempt_number=3, wait_fixed=5000)\n",
    "    def get_api_data(self):\n",
    "        r = self.session.get(WEREAD_HISTORY_URL)\n",
    "        if not r.ok:\n",
    "            if r.json()[\"errcode\"] == -2012:\n",
    "                self.session.get(WEREAD_URL)\n",
    "                r = self.session.get(WEREAD_HISTORY_URL)\n",
    "            else:\n",
    "                raise Exception(\"Can not get weread history data\")\n",
    "        return r.json()\n",
    "\n",
    "    @retry(stop_max_attempt_number=3, wait_fixed=5000)\n",
    "    def get_chapter_info(self,bookId):\n",
    "        self.session.get(WEREAD_URL)\n",
    "        body = {\"bookIds\": [bookId], \"synckeys\": [0], \"teenmode\": 0}\n",
    "        r = self.session.post(WEREAD_CHAPTER_INFO, json=body)\n",
    "        if (\n",
    "                r.ok\n",
    "                and \"data\" in r.json()\n",
    "                and len(r.json()[\"data\"]) == 1\n",
    "                and \"updated\" in r.json()[\"data\"][0]\n",
    "        ):\n",
    "            update = r.json()[\"data\"][0][\"updated\"]\n",
    "            update.append(\n",
    "                {\n",
    "                    \"chapterUid\": 1000000,\n",
    "                    \"chapterIdx\": 1000000,\n",
    "                    \"updateTime\": 1683825006,\n",
    "                    \"readAhead\": 0,\n",
    "                    \"title\": \"点评\",\n",
    "                    \"level\": 1,\n",
    "                }\n",
    "            )\n",
    "            return {item[\"chapterUid\"]: item for item in update}\n",
    "        else:\n",
    "            raise Exception(f\"get {bookId} chapter info failed {r.text}\")\n",
    "\n",
    "    def transform_id(self,book_id):\n",
    "        id_length = len(book_id)\n",
    "        if re.match(\"^\\d*$\", book_id):\n",
    "            ary = []\n",
    "            for i in range(0, id_length, 9):\n",
    "                ary.append(format(int(book_id[i : min(i + 9, id_length)]), \"x\"))\n",
    "            return \"3\", ary\n",
    "\n",
    "        result = \"\"\n",
    "        for i in range(id_length):\n",
    "            result += format(ord(book_id[i]), \"x\")\n",
    "        return \"4\", [result]\n",
    "\n",
    "\n",
    "    def calculate_book_str_id(self,book_id):\n",
    "        md5 = hashlib.md5()\n",
    "        md5.update(book_id.encode(\"utf-8\"))\n",
    "        digest = md5.hexdigest()\n",
    "        result = digest[0:3]\n",
    "        code, transformed_ids = self.transform_id(book_id)\n",
    "        result += code + \"2\" + digest[-2:]\n",
    "\n",
    "        for i in range(len(transformed_ids)):\n",
    "            hex_length_str = format(len(transformed_ids[i]), \"x\")\n",
    "            if len(hex_length_str) == 1:\n",
    "                hex_length_str = \"0\" + hex_length_str\n",
    "\n",
    "            result += hex_length_str + transformed_ids[i]\n",
    "\n",
    "            if i < len(transformed_ids) - 1:\n",
    "                result += \"g\"\n",
    "\n",
    "        if len(result) < 20:\n",
    "            result += digest[0 : 20 - len(result)]\n",
    "\n",
    "        md5 = hashlib.md5()\n",
    "        md5.update(result.encode(\"utf-8\"))\n",
    "        result += md5.hexdigest()[0:3]\n",
    "        return result\n",
    "    def get_url(self,book_id):\n",
    "        return f\"https://weread.qq.com/web/reader/{self.calculate_book_str_id(book_id)}\"\n"
   ]
  },
  {
   "cell_type": "markdown",
   "source": [
    "# Test Block"
   ],
   "metadata": {
    "collapsed": false
   }
  },
  {
   "cell_type": "code",
   "execution_count": 36,
   "outputs": [],
   "source": [
    "weread_api = WeReadApi()"
   ],
   "metadata": {
    "collapsed": false,
    "ExecuteTime": {
     "end_time": "2024-01-19T15:30:17.333482Z",
     "start_time": "2024-01-19T15:30:17.325355Z"
    }
   }
  },
  {
   "cell_type": "code",
   "execution_count": 18,
   "outputs": [
    {
     "data": {
      "text/plain": "[{'bookId': '165470',\n  'book': {'bookId': '165470',\n   'title': '边城',\n   'author': '沈从文',\n   'cover': 'https://cdn.weread.qq.com/weread/cover/25/yuewen_165470/s_yuewen_1654701703658251.jpg',\n   'version': 0,\n   'format': 'txt',\n   'type': 0,\n   'price': 0,\n   'originalPrice': 0,\n   'soldout': 1,\n   'bookStatus': 1,\n   'payType': 33,\n   'centPrice': 0,\n   'finished': 1,\n   'maxFreeChapter': 5,\n   'free': 1,\n   'mcardDiscount': 0,\n   'ispub': 1,\n   'cpid': 37271,\n   'publishTime': '1970-01-01 00:00:00.0',\n   'categories': [{'categoryId': 100000,\n     'subCategoryId': 100001,\n     'categoryType': 0,\n     'title': '精品小说-社会小说'}],\n   'hasLecture': 0,\n   'lastChapterIdx': 26,\n   'paperBook': {'skuId': ''},\n   'maxFreeInfo': {'maxFreeChapterIdx': 5,\n    'maxFreeChapterUid': 15,\n    'maxFreeChapterRatio': 100},\n   'copyrightChapterUids': [],\n   'hasKeyPoint': False,\n   'blockSaveImg': 0,\n   'language': 'zh',\n   'hideUpdateTime': True,\n   'isEPUBComics': 0,\n   'webBookControl': 0},\n  'reviewCount': 0,\n  'reviewLikeCount': 0,\n  'reviewCommentCount': 0,\n  'noteCount': 0,\n  'bookmarkCount': 1,\n  'sort': 1445488370},\n {'bookId': '43896728',\n  'book': {'bookId': '43896728',\n   'title': '不能承受的生命之轻（米兰·昆德拉作品系列·2022版）',\n   'author': '[法]米兰·昆德拉',\n   'translator': '许钧',\n   'cover': 'https://cdn.weread.qq.com/weread/cover/3/YueWen_43896728/s_YueWen_43896728.jpg',\n   'version': 1266999731,\n   'format': 'epub',\n   'type': 0,\n   'price': 87.99,\n   'originalPrice': 0,\n   'soldout': 0,\n   'bookStatus': 1,\n   'payType': 1048577,\n   'centPrice': 8799,\n   'finished': 1,\n   'maxFreeChapter': 20,\n   'free': 0,\n   'mcardDiscount': 0,\n   'ispub': 1,\n   'extra_type': 5,\n   'cpid': 9030183,\n   'publishTime': '2022-04-01 00:00:00',\n   'categories': [{'categoryId': 300000,\n     'subCategoryId': 300013,\n     'categoryType': 0,\n     'title': '文学-外国文学'}],\n   'hasLecture': 1,\n   'lastChapterIdx': 156,\n   'paperBook': {'skuId': '13697490'},\n   'maxFreeInfo': {'maxFreeChapterIdx': 20,\n    'maxFreeChapterUid': 176,\n    'maxFreeChapterRatio': 18},\n   'copyrightChapterUids': [158],\n   'hasKeyPoint': False,\n   'blockSaveImg': 0,\n   'language': 'zh-CN',\n   'hideUpdateTime': False,\n   'isEPUBComics': 0,\n   'webBookControl': 0},\n  'reviewCount': 0,\n  'reviewLikeCount': 0,\n  'reviewCommentCount': 0,\n  'noteCount': 0,\n  'bookmarkCount': 1,\n  'sort': 1704874338},\n {'bookId': '3300070929',\n  'book': {'bookId': '3300070929',\n   'title': '埃隆·马斯克传',\n   'author': '沃尔特·艾萨克森',\n   'translator': '孙思远 刘家琦',\n   'cover': 'https://cdn.weread.qq.com/weread/cover/37/cpplatform_gmaqcuuuamjkvu7knomjim/s_cpplatform_gmaqcuuuamjkvu7knomjim1703077934.jpg',\n   'version': 966430902,\n   'format': 'epub',\n   'type': 0,\n   'price': 69.0,\n   'originalPrice': 0,\n   'soldout': 0,\n   'bookStatus': 1,\n   'payType': 1,\n   'centPrice': 6900,\n   'finished': 1,\n   'maxFreeChapter': 13,\n   'free': 0,\n   'mcardDiscount': 0,\n   'ispub': 1,\n   'extra_type': 5,\n   'cpid': 4525313,\n   'publishTime': '2023-09-01 00:00:00',\n   'categories': [{'categoryId': 500000,\n     'subCategoryId': 500001,\n     'categoryType': 0,\n     'title': '人物传记-财经人物'}],\n   'hasLecture': 0,\n   'shouldHideTTS': 1,\n   'lastChapterIdx': 101,\n   'paperBook': {'skuId': ''},\n   'maxFreeInfo': {'maxFreeChapterIdx': 13,\n    'maxFreeChapterUid': 26,\n    'maxFreeChapterRatio': 100},\n   'copyrightChapterUids': [15],\n   'hasKeyPoint': False,\n   'blockSaveImg': 0,\n   'language': 'zh',\n   'hideUpdateTime': False,\n   'isEPUBComics': 0,\n   'webBookControl': 1},\n  'reviewCount': 0,\n  'reviewLikeCount': 0,\n  'reviewCommentCount': 0,\n  'noteCount': 3,\n  'bookmarkCount': 1,\n  'sort': 1705625294},\n {'bookId': 'CB_519AbzAbDC1u6li6keADS0AR',\n  'book': {'bookId': 'CB_519AbzAbDC1u6li6keADS0AR',\n   'title': '可能性的艺术：比较政治学30讲（学者刘瑜比较政治学新著，跳出现象，通过比较洞察政治，突破认知偏见，在浩瀚的可能性中理解我们自身 理想国出品）',\n   'author': '刘瑜',\n   'cover': 'https://res.weread.qq.com/wrepub/CB_B9n4pX4qrFlb6i36gw02z0gt_parsecover',\n   'version': 1802942228,\n   'format': 'epub',\n   'type': 0,\n   'price': 0,\n   'originalPrice': 0,\n   'soldout': 0,\n   'bookStatus': 1,\n   'payType': 33,\n   'centPrice': 0,\n   'finished': 1,\n   'maxFreeChapter': 0,\n   'free': 1,\n   'mcardDiscount': 0,\n   'ispub': 0,\n   'cpid': 0,\n   'publishTime': '',\n   'hasLecture': 0,\n   'lastChapterIdx': 41,\n   'paperBook': {'skuId': ''},\n   'maxFreeInfo': {'maxFreeChapterIdx': 0,\n    'maxFreeChapterUid': 0,\n    'maxFreeChapterRatio': 0},\n   'copyrightChapterUids': [],\n   'hasKeyPoint': True,\n   'limitShareChat': 0,\n   'inStoreBookId': '3300016646',\n   'blockSaveImg': 0,\n   'language': 'zh',\n   'hideUpdateTime': False,\n   'isEPUBComics': 0,\n   'webBookControl': 0},\n  'reviewCount': 2,\n  'reviewLikeCount': 0,\n  'reviewCommentCount': 0,\n  'noteCount': 21,\n  'bookmarkCount': 1,\n  'sort': 1705628112}]"
     },
     "execution_count": 18,
     "metadata": {},
     "output_type": "execute_result"
    }
   ],
   "source": [
    "weread_api.get_notebooklist()"
   ],
   "metadata": {
    "collapsed": false,
    "ExecuteTime": {
     "end_time": "2024-01-19T14:22:02.895089Z",
     "start_time": "2024-01-19T14:22:01.772648Z"
    }
   }
  },
  {
   "cell_type": "code",
   "execution_count": 37,
   "outputs": [
    {
     "name": "stderr",
     "output_type": "stream",
     "text": [
      "/Users/denniswang/.conda/envs/newConda/lib/python3.8/site-packages/urllib3/connectionpool.py:1045: InsecureRequestWarning: Unverified HTTPS request is being made to host '127.0.0.1'. Adding certificate verification is strongly advised. See: https://urllib3.readthedocs.io/en/1.26.x/advanced-usage.html#ssl-warnings\n",
      "  warnings.warn(\n"
     ]
    }
   ],
   "source": [
    "bookshelf = weread_api.get_bookshelf()"
   ],
   "metadata": {
    "collapsed": false,
    "ExecuteTime": {
     "end_time": "2024-01-19T15:30:27.677417Z",
     "start_time": "2024-01-19T15:30:25.972460Z"
    }
   }
  },
  {
   "cell_type": "code",
   "execution_count": 4,
   "outputs": [],
   "source": [
    "headers = \"\"\"\n",
    "Host: i.weread.qq.com\n",
    "Connection: keep-alive\n",
    "Upgrade-Insecure-Requests: 1\n",
    "User-Agent: Mozilla/5.0 (Windows NT 10.0; Win64; x64) AppleWebKit/537.36 (KHTML, like Gecko) Chrome/73.0.3683.103 Safari/537.36\n",
    "Accept: text/html,application/xhtml+xml,application/xml;q=0.9,image/webp,image/apng,*/*;q=0.8,application/signed-exchange;v=b3\n",
    "Accept-Encoding: gzip, deflate, br\n",
    "Accept-Language: zh-CN,zh;q=0.9,en;q=0.8\n",
    "\"\"\"\n",
    "headers = dict(x.split(\": \", 1) for x in headers.splitlines() if x)"
   ],
   "metadata": {
    "collapsed": false,
    "ExecuteTime": {
     "end_time": "2024-01-19T13:09:40.662934Z",
     "start_time": "2024-01-19T13:09:40.655403Z"
    }
   }
  },
  {
   "cell_type": "code",
   "execution_count": 19,
   "outputs": [
    {
     "name": "stderr",
     "output_type": "stream",
     "text": [
      "/Users/denniswang/.conda/envs/newConda/lib/python3.8/site-packages/urllib3/connectionpool.py:1045: InsecureRequestWarning: Unverified HTTPS request is being made to host '127.0.0.1'. Adding certificate verification is strongly advised. See: https://urllib3.readthedocs.io/en/1.26.x/advanced-usage.html#ssl-warnings\n",
      "  warnings.warn(\n"
     ]
    }
   ],
   "source": [
    "url = \"https://i.weread.qq.com/shelf/sync\"\n",
    "cookies_dic = weread_api.get_cookies_dict()\n",
    "params = dict(userVid=\"18002960\")\n",
    "r = weread_api.session.get(url, params=params, headers=headers, cookies=cookies_dic, verify=False)\n",
    "data = r.json()\n"
   ],
   "metadata": {
    "collapsed": false,
    "ExecuteTime": {
     "end_time": "2024-01-19T14:23:51.675840Z",
     "start_time": "2024-01-19T14:23:51.231272Z"
    }
   }
  },
  {
   "cell_type": "code",
   "execution_count": 20,
   "outputs": [
    {
     "data": {
      "text/plain": "{'bookCount': 27,\n 'removedArchive': [],\n 'bookProgress': [{'bookId': '43896728',\n   'progress': 0,\n   'chapterUid': 161,\n   'chapterOffset': 0,\n   'chapterIdx': 5,\n   'appId': '124177027',\n   'updateTime': 1704874347,\n   'readingTime': 15,\n   'synckey': 2025407949},\n  {'bookId': '165470',\n   'progress': 2,\n   'chapterUid': 1,\n   'chapterOffset': 4615,\n   'chapterIdx': 0,\n   'appId': '167337045',\n   'updateTime': 1446612800,\n   'readingTime': 635},\n  {'bookId': '3300070929',\n   'progress': 1,\n   'chapterUid': 17,\n   'chapterOffset': 4626,\n   'chapterIdx': 4,\n   'appId': '124177027',\n   'updateTime': 1705671212,\n   'readingTime': 557,\n   'synckey': 1493290031},\n  {'bookId': '675678',\n   'progress': 1,\n   'chapterUid': 1,\n   'chapterOffset': 621,\n   'chapterIdx': 0,\n   'appId': '167337045',\n   'updateTime': 1445484508,\n   'readingTime': 16},\n  {'bookId': '855812',\n   'progress': 0,\n   'chapterUid': 37,\n   'chapterOffset': 0,\n   'chapterIdx': 6,\n   'appId': '124177027',\n   'updateTime': 1705641384,\n   'readingTime': 6,\n   'synckey': 331447545},\n  {'bookId': '31933731',\n   'progress': 6,\n   'chapterUid': 56,\n   'chapterOffset': 0,\n   'chapterIdx': 7,\n   'appId': '124177027',\n   'updateTime': 1704875308,\n   'readingTime': 43,\n   'synckey': 335926566},\n  {'bookId': '663008',\n   'progress': 0,\n   'chapterUid': 2,\n   'chapterOffset': 0,\n   'chapterIdx': 0,\n   'appId': '167337045',\n   'updateTime': 1455583399,\n   'readingTime': 45},\n  {'bookId': '703939',\n   'progress': 0,\n   'chapterUid': 2,\n   'chapterOffset': 0,\n   'chapterIdx': 2,\n   'appId': '124177027',\n   'updateTime': 1705393035,\n   'readingTime': 23,\n   'synckey': 789382403},\n  {'bookId': '3300016646',\n   'progress': 0,\n   'chapterUid': 102,\n   'chapterOffset': 0,\n   'chapterIdx': 36,\n   'appId': '124177027',\n   'updateTime': 1705500587,\n   'readingTime': 75,\n   'synckey': 2011936564},\n  {'bookId': '40296160',\n   'progress': 0,\n   'chapterUid': 1,\n   'chapterOffset': 0,\n   'chapterIdx': 1,\n   'appId': '124177027',\n   'updateTime': 1704874750,\n   'readingTime': 13,\n   'synckey': 789365242},\n  {'bookId': '31486560',\n   'progress': 0,\n   'chapterUid': 3,\n   'chapterOffset': 4154,\n   'chapterIdx': 3,\n   'appId': 'wb115321887466h1797117880',\n   'updateTime': 1705395080,\n   'readingTime': 6,\n   'synckey': 332721819},\n  {'bookId': 'CB_2sV3wZ3xvC1u6li6ke91S9PW',\n   'progress': 0,\n   'chapterUid': 6,\n   'chapterOffset': 0,\n   'chapterIdx': 6,\n   'appId': '124177027',\n   'updateTime': 1705418514,\n   'readingTime': 102,\n   'synckey': 789451047},\n  {'bookId': 'CB_519AbzAbDC1u6li6keADS0AR',\n   'progress': 96,\n   'chapterUid': 41,\n   'chapterOffset': 0,\n   'chapterIdx': 41,\n   'appId': '124177027',\n   'updateTime': 1705671232,\n   'readingTime': 8032,\n   'synckey': 333592670},\n  {'bookId': '718499',\n   'progress': 0,\n   'chapterUid': 1,\n   'chapterOffset': 2552,\n   'chapterIdx': 0,\n   'appId': '167337045',\n   'updateTime': 1445484483,\n   'readingTime': 300},\n  {'bookId': '748278',\n   'progress': 1,\n   'chapterUid': 3,\n   'chapterOffset': 2818,\n   'chapterIdx': 0,\n   'appId': '167337045',\n   'updateTime': 1455584562,\n   'readingTime': 478}],\n 'synckey': 1705671232,\n 'removed': [],\n 'lectureRemoved': [],\n 'archive': [],\n 'books': [{'bookId': '26619504',\n   'title': '征服与革命中的阿拉伯人：1516年至今',\n   'author': '尤金·罗根',\n   'translator': '廉超群,李海鹏',\n   'cover': 'https://wfqqreader-1252317822.image.myqcloud.com/cover/504/26619504/s_26619504.jpg',\n   'version': 782112298,\n   'format': 'epub',\n   'type': 0,\n   'price': 69.9,\n   'originalPrice': 0,\n   'soldout': 0,\n   'bookStatus': 1,\n   'payType': 4097,\n   'lastChapterCreateTime': 0,\n   'centPrice': 6990,\n   'finished': 1,\n   'maxFreeChapter': 9,\n   'free': 0,\n   'mcardDiscount': 0,\n   'ispub': 1,\n   'extra_type': 1,\n   'updateTime': 1693492606,\n   'publishTime': '2019-07-01 00:00:00',\n   'category': '历史-世界史',\n   'categories': [{'categoryId': 200000,\n     'subCategoryId': 200006,\n     'categoryType': 0,\n     'title': '历史-世界史'}],\n   'hasLecture': 1,\n   'lastChapterIdx': 25,\n   'paperBook': {'skuId': '12666880'},\n   'maxFreeInfo': {'maxFreeChapterIdx': 9,\n    'maxFreeChapterUid': 9,\n    'maxFreeChapterRatio': 25},\n   'copyrightChapterUids': [2],\n   'hasKeyPoint': True,\n   'blockSaveImg': 0,\n   'language': 'zh',\n   'hideUpdateTime': False,\n   'isEPUBComics': 0,\n   'webBookControl': 0,\n   'secret': 0,\n   'readUpdateTime': 1704874407,\n   'finishReading': 0,\n   'paid': 0},\n  {'bookId': '907336',\n   'title': '耶路撒冷三千年',\n   'author': '西蒙·蒙蒂菲奥里',\n   'translator': '张倩红,马丹静',\n   'cover': 'https://cdn.weread.qq.com/weread/cover/10/YueWen_907336/s_YueWen_907336.jpg',\n   'version': 1433371746,\n   'format': 'epub',\n   'type': 0,\n   'price': 22.19,\n   'originalPrice': 0,\n   'soldout': 0,\n   'bookStatus': 1,\n   'payType': 4097,\n   'lastChapterCreateTime': 1686244810,\n   'centPrice': 2219,\n   'finished': 1,\n   'maxFreeChapter': 12,\n   'free': 0,\n   'mcardDiscount': 0,\n   'ispub': 1,\n   'extra_type': 5,\n   'updateTime': 1693405195,\n   'publishTime': '2017-04-01 00:00:00',\n   'category': '历史-世界史',\n   'categories': [{'categoryId': 200000,\n     'subCategoryId': 200006,\n     'categoryType': 0,\n     'title': '历史-世界史'}],\n   'hasLecture': 0,\n   'lastChapterIdx': 74,\n   'paperBook': {'skuId': '11555281'},\n   'maxFreeInfo': {'maxFreeChapterIdx': 12,\n    'maxFreeChapterUid': 85,\n    'maxFreeChapterRatio': 10},\n   'copyrightChapterUids': [75],\n   'hasKeyPoint': True,\n   'blockSaveImg': 0,\n   'language': 'zh',\n   'hideUpdateTime': False,\n   'isEPUBComics': 0,\n   'webBookControl': 0,\n   'secret': 0,\n   'readUpdateTime': 1704874392,\n   'finishReading': 0,\n   'paid': 0},\n  {'bookId': '703939',\n   'title': '你若盛开，清风自来',\n   'author': '杨承清编著',\n   'cover': 'https://cdn.weread.qq.com/weread/cover/41/YueWen_703939/s_YueWen_703939.jpg',\n   'version': 0,\n   'format': 'txt',\n   'type': 0,\n   'price': 1.99,\n   'originalPrice': 0,\n   'soldout': 0,\n   'bookStatus': 1,\n   'payType': 1048577,\n   'lastChapterCreateTime': 1630984009,\n   'centPrice': 199,\n   'finished': 1,\n   'maxFreeChapter': 3,\n   'free': 0,\n   'mcardDiscount': 0,\n   'ispub': 1,\n   'extra_type': 1,\n   'updateTime': 1668627766,\n   'publishTime': '2015-01-01 00:00:00',\n   'category': '个人成长-情绪心灵',\n   'categories': [{'categoryId': 1000000,\n     'subCategoryId': 1000003,\n     'categoryType': 0,\n     'title': '个人成长-情绪心灵'}],\n   'hasLecture': 0,\n   'lastChapterIdx': 5,\n   'paperBook': {'skuId': ''},\n   'maxFreeInfo': {'maxFreeChapterIdx': 3,\n    'maxFreeChapterUid': 8,\n    'maxFreeChapterRatio': 100},\n   'copyrightChapterUids': [],\n   'hasKeyPoint': True,\n   'blockSaveImg': 0,\n   'language': 'zh',\n   'hideUpdateTime': False,\n   'isEPUBComics': 0,\n   'webBookControl': 0,\n   'secret': 1,\n   'readUpdateTime': 1705393035,\n   'finishReading': 0,\n   'paid': 1},\n  {'bookId': '663008',\n   'title': '消失的地平线',\n   'author': '詹姆斯·希尔顿',\n   'translator': '陶曚',\n   'cover': 'https://cdn.weread.qq.com/weread/cover/89/YueWen_663008/s_YueWen_663008.jpg',\n   'version': 0,\n   'format': 'txt',\n   'type': 0,\n   'price': 28.0,\n   'originalPrice': 0,\n   'soldout': 0,\n   'bookStatus': 1,\n   'payType': 1048577,\n   'lastChapterCreateTime': 1581688276,\n   'centPrice': 2800,\n   'finished': 1,\n   'maxFreeChapter': 3,\n   'free': 0,\n   'mcardDiscount': 0,\n   'ispub': 1,\n   'extra_type': 1,\n   'updateTime': 1703159696,\n   'publishTime': '2015-06-01 00:00:00',\n   'category': '文学-经典作品',\n   'categories': [{'categoryId': 300000,\n     'subCategoryId': 300004,\n     'categoryType': 0,\n     'title': '文学-经典作品'}],\n   'hasLecture': 0,\n   'lastChapterIdx': 14,\n   'paperBook': {'skuId': '13268566'},\n   'maxFreeInfo': {'maxFreeChapterIdx': 3,\n    'maxFreeChapterUid': 4,\n    'maxFreeChapterRatio': 100},\n   'copyrightChapterUids': [],\n   'hasKeyPoint': False,\n   'blockSaveImg': 0,\n   'language': 'zh',\n   'hideUpdateTime': False,\n   'isEPUBComics': 0,\n   'webBookControl': 0,\n   'secret': 0,\n   'readUpdateTime': 1455583399,\n   'finishReading': 0,\n   'paid': 0},\n  {'bookId': '536041',\n   'title': '凉生，我们可不可以不忧伤',\n   'author': '乐小米',\n   'cover': 'https://cdn.weread.qq.com/weread/cover/77/YueWen_536041/s_YueWen_536041.jpg',\n   'version': 135690974,\n   'format': 'epub',\n   'type': 0,\n   'price': 30.2,\n   'originalPrice': 0,\n   'soldout': 0,\n   'bookStatus': 1,\n   'payType': 1048577,\n   'lastChapterCreateTime': 1689615601,\n   'centPrice': 3020,\n   'finished': 1,\n   'maxFreeChapter': 16,\n   'free': 0,\n   'mcardDiscount': 0,\n   'ispub': 1,\n   'extra_type': 1,\n   'updateTime': 1689615601,\n   'publishTime': '2014-12-01 00:00:00',\n   'category': '精品小说-情感小说',\n   'categories': [{'categoryId': 100000,\n     'subCategoryId': 100002,\n     'categoryType': 0,\n     'title': '精品小说-情感小说'}],\n   'authorVids': '222135613',\n   'hasLecture': 0,\n   'lastChapterIdx': 138,\n   'paperBook': {'skuId': ''},\n   'maxFreeInfo': {'maxFreeChapterIdx': 16,\n    'maxFreeChapterUid': 16,\n    'maxFreeChapterRatio': 34},\n   'copyrightChapterUids': [2],\n   'hasKeyPoint': False,\n   'blockSaveImg': 0,\n   'language': 'zh',\n   'hideUpdateTime': False,\n   'isEPUBComics': 0,\n   'webBookControl': 0,\n   'secret': 1,\n   'readUpdateTime': 1445482494,\n   'finishReading': 0,\n   'paid': 1},\n  {'bookId': '3300061154',\n   'title': '芯片战争：世界最关键技术的争夺战（财之道丛书）',\n   'author': '克里斯·米勒',\n   'translator': '蔡树军',\n   'cover': 'https://cdn.weread.qq.com/weread/cover/82/cpplatform_7fknrczhjmrhcrf8vygbvx/s_cpplatform_7fknrczhjmrhcrf8vygbvx1686134532.jpg',\n   'version': 1753215140,\n   'format': 'epub',\n   'type': 0,\n   'price': 52.8,\n   'originalPrice': 0,\n   'soldout': 0,\n   'bookStatus': 1,\n   'payType': 4097,\n   'lastChapterCreateTime': 1686134541,\n   'centPrice': 5280,\n   'finished': 1,\n   'maxFreeChapter': 12,\n   'free': 0,\n   'mcardDiscount': 0,\n   'ispub': 1,\n   'extra_type': 5,\n   'updateTime': 1686134541,\n   'publishTime': '2023-05-01 00:00:00',\n   'category': '经济理财-财经',\n   'categories': [{'categoryId': 1100000,\n     'subCategoryId': 1100001,\n     'categoryType': 0,\n     'title': '经济理财-财经'}],\n   'hasLecture': 1,\n   'lastChapterIdx': 67,\n   'paperBook': {'skuId': ''},\n   'maxFreeInfo': {'maxFreeChapterIdx': 12,\n    'maxFreeChapterUid': 12,\n    'maxFreeChapterRatio': 81},\n   'copyrightChapterUids': [2],\n   'hasKeyPoint': True,\n   'blockSaveImg': 0,\n   'language': 'zh',\n   'hideUpdateTime': False,\n   'isEPUBComics': 0,\n   'webBookControl': 0,\n   'secret': 0,\n   'readUpdateTime': 1704874598,\n   'finishReading': 0,\n   'paid': 0},\n  {'bookId': '675678',\n   'title': '大秦帝国（套装版）',\n   'author': '孙皓晖',\n   'cover': 'https://cdn.weread.qq.com/weread/cover/11/yuewen_675678/s_yuewen_6756781676967871.jpg',\n   'version': 1888169002,\n   'format': 'epub',\n   'type': 0,\n   'price': 199.0,\n   'originalPrice': 0,\n   'soldout': 0,\n   'bookStatus': 1,\n   'payType': 1048577,\n   'lastChapterCreateTime': 1682529660,\n   'centPrice': 19900,\n   'finished': 1,\n   'maxFreeChapter': 73,\n   'free': 0,\n   'mcardDiscount': 0,\n   'ispub': 1,\n   'extra_type': 5,\n   'updateTime': 1704459187,\n   'publishTime': '2016-10-24 00:00:00',\n   'category': '历史-历史小说',\n   'categories': [{'categoryId': 200000,\n     'subCategoryId': 200004,\n     'categoryType': 0,\n     'title': '历史-历史小说'}],\n   'hasLecture': 1,\n   'lPushName': '央视热播剧《大秦帝国》原著小说',\n   'lastChapterIdx': 578,\n   'paperBook': {'skuId': '12016148'},\n   'maxFreeInfo': {'maxFreeChapterIdx': 73,\n    'maxFreeChapterUid': 201,\n    'maxFreeChapterRatio': 51},\n   'copyrightChapterUids': [130],\n   'hasKeyPoint': False,\n   'blockSaveImg': 0,\n   'language': 'zh',\n   'hideUpdateTime': False,\n   'isEPUBComics': 0,\n   'webBookControl': 0,\n   'secret': 1,\n   'readUpdateTime': 1445484508,\n   'finishReading': 0,\n   'paid': 1},\n  {'bookId': '837932',\n   'title': '穷查理宝典：查理·芒格智慧箴言录（全新增订本）',\n   'author': '彼得·考夫曼',\n   'translator': '李继宏 等',\n   'cover': 'https://cdn.weread.qq.com/weread/cover/48/YueWen_837932/s_YueWen_837932.jpg',\n   'version': 1869223750,\n   'format': 'epub',\n   'type': 0,\n   'price': 131.6,\n   'originalPrice': 0,\n   'soldout': 0,\n   'bookStatus': 1,\n   'payType': 1048577,\n   'lastChapterCreateTime': 1682016078,\n   'centPrice': 13160,\n   'finished': 1,\n   'maxFreeChapter': 16,\n   'free': 0,\n   'mcardDiscount': 0,\n   'ispub': 1,\n   'extra_type': 1,\n   'updateTime': 1693403849,\n   'publishTime': '2021-07-01 00:00:00',\n   'category': '个人成长-励志成长',\n   'categories': [{'categoryId': 1000000,\n     'subCategoryId': 1000002,\n     'categoryType': 0,\n     'title': '个人成长-励志成长'}],\n   'hasLecture': 1,\n   'lPushName': '如果知道会死在哪里，那我永远不去那里。',\n   'lastChapterIdx': 83,\n   'paperBook': {'skuId': '13607690'},\n   'maxFreeInfo': {'maxFreeChapterIdx': 16,\n    'maxFreeChapterUid': 98,\n    'maxFreeChapterRatio': 24},\n   'copyrightChapterUids': [84],\n   'hasKeyPoint': False,\n   'blockSaveImg': 0,\n   'language': 'zh',\n   'hideUpdateTime': False,\n   'isEPUBComics': 0,\n   'webBookControl': 0,\n   'secret': 0,\n   'readUpdateTime': 1704874418,\n   'finishReading': 0,\n   'paid': 0},\n  {'bookId': '31933731',\n   'title': '爆笑吧！心理学大神来了',\n   'author': '迟毓凯',\n   'cover': 'https://cdn.weread.qq.com/weread/cover/82/YueWen_31933731/s_YueWen_31933731.jpg',\n   'version': 793942527,\n   'format': 'epub',\n   'type': 0,\n   'price': 62.91,\n   'originalPrice': 0,\n   'soldout': 0,\n   'bookStatus': 1,\n   'payType': 1048577,\n   'lastChapterCreateTime': 1681840208,\n   'centPrice': 6291,\n   'finished': 1,\n   'maxFreeChapter': 7,\n   'free': 0,\n   'mcardDiscount': 0,\n   'ispub': 1,\n   'extra_type': 5,\n   'updateTime': 1703130821,\n   'publishTime': '2020-07-01 00:00:00',\n   'category': '心理-心理学应用',\n   'categories': [{'categoryId': 800000,\n     'subCategoryId': 800005,\n     'categoryType': 0,\n     'title': '心理-心理学应用'}],\n   'hasLecture': 1,\n   'lPushName': '看的是八卦，学的是心理学',\n   'lastChapterIdx': 24,\n   'paperBook': {'skuId': '12906156'},\n   'maxFreeInfo': {'maxFreeChapterIdx': 7,\n    'maxFreeChapterUid': 56,\n    'maxFreeChapterRatio': 68},\n   'copyrightChapterUids': [51],\n   'hasKeyPoint': True,\n   'blockSaveImg': 0,\n   'language': 'zh',\n   'hideUpdateTime': False,\n   'isEPUBComics': 0,\n   'webBookControl': 0,\n   'secret': 0,\n   'readUpdateTime': 1704875308,\n   'finishReading': 0,\n   'paid': 0},\n  {'bookId': '855812',\n   'title': '人类简史：从动物到上帝',\n   'author': '尤瓦尔·赫拉利',\n   'translator': '林俊宏',\n   'cover': 'https://cdn.weread.qq.com/weread/cover/37/YueWen_855812/s_YueWen_855812.jpg',\n   'version': 1899683152,\n   'format': 'epub',\n   'type': 0,\n   'price': 40.8,\n   'originalPrice': 0,\n   'soldout': 0,\n   'bookStatus': 1,\n   'payType': 1048577,\n   'lastChapterCreateTime': 1682099408,\n   'centPrice': 4080,\n   'finished': 1,\n   'maxFreeChapter': 7,\n   'free': 0,\n   'mcardDiscount': 0,\n   'ispub': 1,\n   'extra_type': 5,\n   'updateTime': 1693404722,\n   'publishTime': '2017-02-23 00:00:00',\n   'category': '历史-世界史',\n   'categories': [{'categoryId': 200000,\n     'subCategoryId': 200006,\n     'categoryType': 0,\n     'title': '历史-世界史'}],\n   'hasLecture': 1,\n   'lPushName': '十万年前至少有六种人，为什么只剩我们',\n   'lastChapterIdx': 32,\n   'paperBook': {'skuId': '12125924'},\n   'maxFreeInfo': {'maxFreeChapterIdx': 7,\n    'maxFreeChapterUid': 38,\n    'maxFreeChapterRatio': 67},\n   'copyrightChapterUids': [33],\n   'hasKeyPoint': True,\n   'blockSaveImg': 0,\n   'language': 'zh',\n   'hideUpdateTime': False,\n   'isEPUBComics': 0,\n   'webBookControl': 0,\n   'secret': 0,\n   'readUpdateTime': 1705641384,\n   'finishReading': 0,\n   'paid': 0},\n  {'bookId': 'CB_8DbAcFAbDC1u6li6keGMS3LU',\n   'title': '枪炮、病菌与钢铁 : 人类社会的命运 (世纪人文系列丛书·开放人文)',\n   'author': '贾雷德·戴蒙德',\n   'cover': 'https://res.weread.qq.com/wrepub/CB_4UZ71T73XF6J6i36gp1zPEWa_parsecover',\n   'version': 862132620,\n   'format': 'epub',\n   'type': 0,\n   'price': 0,\n   'originalPrice': 0,\n   'soldout': 0,\n   'bookStatus': 1,\n   'payType': 33,\n   'centPrice': 0,\n   'finished': 1,\n   'maxFreeChapter': 0,\n   'free': 1,\n   'mcardDiscount': 0,\n   'ispub': 0,\n   'lastChapterCreateTime': 0,\n   'publishTime': '',\n   'hasLecture': 0,\n   'lastChapterIdx': 33,\n   'paperBook': {'skuId': ''},\n   'maxFreeInfo': {'maxFreeChapterIdx': 0,\n    'maxFreeChapterUid': 0,\n    'maxFreeChapterRatio': 0},\n   'copyrightChapterUids': [],\n   'hasKeyPoint': True,\n   'limitShareChat': 0,\n   'blockSaveImg': 0,\n   'language': 'zh',\n   'hideUpdateTime': False,\n   'isEPUBComics': 0,\n   'webBookControl': 0,\n   'secret': 1,\n   'readUpdateTime': 1705418603,\n   'finishReading': 0,\n   'paid': 0,\n   'updateTime': 1705418603},\n  {'bookId': '40296160',\n   'title': '人际网络',\n   'author': '吉姆·兰德尔',\n   'translator': '舒建广',\n   'cover': 'https://cdn.weread.qq.com/weread/cover/68/YueWen_40296160/s_YueWen_40296160.jpg',\n   'version': 1967170052,\n   'format': 'epub',\n   'type': 0,\n   'price': 29.99,\n   'originalPrice': 0,\n   'soldout': 0,\n   'bookStatus': 1,\n   'payType': 1048577,\n   'lastChapterCreateTime': 0,\n   'centPrice': 2999,\n   'finished': 1,\n   'maxFreeChapter': 3,\n   'free': 0,\n   'mcardDiscount': 0,\n   'ispub': 1,\n   'extra_type': 5,\n   'updateTime': 1693408424,\n   'publishTime': '2021-07-01 00:00:00',\n   'category': '个人成长-沟通表达',\n   'categories': [{'categoryId': 1000000,\n     'subCategoryId': 1000001,\n     'categoryType': 0,\n     'title': '个人成长-沟通表达'}],\n   'hasLecture': 0,\n   'lastChapterIdx': 19,\n   'paperBook': {'skuId': '13292552'},\n   'maxFreeInfo': {'maxFreeChapterIdx': 3,\n    'maxFreeChapterUid': 3,\n    'maxFreeChapterRatio': 100},\n   'copyrightChapterUids': [2],\n   'hasKeyPoint': True,\n   'blockSaveImg': 0,\n   'language': 'zh',\n   'hideUpdateTime': False,\n   'isEPUBComics': 0,\n   'webBookControl': 0,\n   'secret': 0,\n   'readUpdateTime': 1704874750,\n   'finishReading': 0,\n   'paid': 0},\n  {'bookId': '216212',\n   'title': '小王子',\n   'author': '[法]安托万·德·圣埃克苏佩里著',\n   'translator': '李继宏',\n   'cover': 'https://cdn.weread.qq.com/weread/cover/40/yuewen_216212/s_yuewen_2162121686560140.jpg',\n   'version': 1545373799,\n   'format': 'epub',\n   'type': 0,\n   'price': 9.99,\n   'originalPrice': 0,\n   'soldout': 0,\n   'bookStatus': 1,\n   'payType': 4097,\n   'lastChapterCreateTime': 1682021406,\n   'centPrice': 999,\n   'finished': 1,\n   'maxFreeChapter': 3,\n   'free': 0,\n   'mcardDiscount': 0,\n   'ispub': 1,\n   'extra_type': 5,\n   'updateTime': 1705063431,\n   'publishTime': '2013-01-01 00:00:00',\n   'category': '文学-外国文学',\n   'categories': [{'categoryId': 300000,\n     'subCategoryId': 300013,\n     'categoryType': 0,\n     'title': '文学-外国文学'},\n    {'categoryId': 100000,\n     'subCategoryId': 100012,\n     'categoryType': 0,\n     'title': '精品小说-影视原著'}],\n   'hasLecture': 1,\n   'lastChapterIdx': 31,\n   'paperBook': {'skuId': '12378533'},\n   'maxFreeInfo': {'maxFreeChapterIdx': 3,\n    'maxFreeChapterUid': 33,\n    'maxFreeChapterRatio': 100},\n   'copyrightChapterUids': [32],\n   'hasKeyPoint': False,\n   'blockSaveImg': 0,\n   'language': 'zh-CN',\n   'hideUpdateTime': False,\n   'isEPUBComics': 0,\n   'webBookControl': 0,\n   'secret': 0,\n   'readUpdateTime': 1455583277,\n   'finishReading': 0,\n   'paid': 0},\n  {'bookId': '703158',\n   'title': '不要让未来的你，讨厌现在的自己',\n   'author': '特立独行的猫',\n   'cover': 'https://wfqqreader-1252317822.image.myqcloud.com/cover/158/703158/s_703158.jpg',\n   'version': 0,\n   'format': 'txt',\n   'type': 0,\n   'price': 3.99,\n   'originalPrice': 0,\n   'soldout': 1,\n   'bookStatus': 1,\n   'payType': 1,\n   'lastChapterCreateTime': 1571894494,\n   'centPrice': 399,\n   'finished': 1,\n   'maxFreeChapter': 2,\n   'free': 0,\n   'mcardDiscount': 0,\n   'ispub': 1,\n   'extra_type': 1,\n   'updateTime': 1527840896,\n   'publishTime': '2014-07-01 00:00:00',\n   'category': '个人成长-人生哲学',\n   'categories': [{'categoryId': 1000000,\n     'subCategoryId': 1000004,\n     'categoryType': 0,\n     'title': '个人成长-人生哲学'}],\n   'hasLecture': 0,\n   'lastChapterIdx': 6,\n   'paperBook': {'skuId': '11495657'},\n   'maxFreeInfo': {'maxFreeChapterIdx': 2,\n    'maxFreeChapterUid': 2,\n    'maxFreeChapterRatio': 100},\n   'copyrightChapterUids': [],\n   'hasKeyPoint': True,\n   'blockSaveImg': 0,\n   'language': 'zh',\n   'hideUpdateTime': True,\n   'isEPUBComics': 0,\n   'webBookControl': 0,\n   'secret': 1,\n   'readUpdateTime': 1445482494,\n   'finishReading': 0,\n   'paid': 1},\n  {'bookId': '31486560',\n   'title': '即兴表达',\n   'author': '王达峰',\n   'cover': 'https://cdn.weread.qq.com/weread/cover/47/YueWen_31486560/s_YueWen_31486560.jpg',\n   'version': 772839251,\n   'format': 'epub',\n   'type': 0,\n   'price': 20.0,\n   'originalPrice': 0,\n   'soldout': 0,\n   'bookStatus': 1,\n   'payType': 1048577,\n   'lastChapterCreateTime': 0,\n   'centPrice': 2000,\n   'finished': 1,\n   'maxFreeChapter': 6,\n   'free': 0,\n   'mcardDiscount': 0,\n   'ispub': 1,\n   'extra_type': 5,\n   'updateTime': 1693917209,\n   'publishTime': '2020-05-01 00:00:00',\n   'category': '个人成长-沟通表达',\n   'categories': [{'categoryId': 1000000,\n     'subCategoryId': 1000001,\n     'categoryType': 0,\n     'title': '个人成长-沟通表达'}],\n   'hasLecture': 0,\n   'lastChapterIdx': 26,\n   'paperBook': {'skuId': '12845872'},\n   'maxFreeInfo': {'maxFreeChapterIdx': 6,\n    'maxFreeChapterUid': 6,\n    'maxFreeChapterRatio': 26},\n   'copyrightChapterUids': [2],\n   'hasKeyPoint': True,\n   'blockSaveImg': 0,\n   'language': 'zh',\n   'hideUpdateTime': False,\n   'isEPUBComics': 0,\n   'webBookControl': 0,\n   'secret': 0,\n   'readUpdateTime': 1705395080,\n   'finishReading': 0,\n   'paid': 0},\n  {'bookId': 'CB_2sV3wZ3xvC1u6li6ke91S9PW',\n   'title': '曾国藩传',\n   'author': '张宏杰',\n   'cover': 'https://res.weread.qq.com/wrepub/CB_CNcFZoFXi4NU6i06gYGeE42c_parsecover',\n   'version': 574584372,\n   'format': 'epub',\n   'type': 0,\n   'price': 0,\n   'originalPrice': 0,\n   'soldout': 0,\n   'bookStatus': 1,\n   'payType': 33,\n   'centPrice': 0,\n   'finished': 1,\n   'maxFreeChapter': 0,\n   'free': 1,\n   'mcardDiscount': 0,\n   'ispub': 0,\n   'lastChapterCreateTime': 0,\n   'publishTime': '',\n   'hasLecture': 0,\n   'lastChapterIdx': 25,\n   'paperBook': {'skuId': ''},\n   'maxFreeInfo': {'maxFreeChapterIdx': 0,\n    'maxFreeChapterUid': 0,\n    'maxFreeChapterRatio': 0},\n   'copyrightChapterUids': [],\n   'hasKeyPoint': False,\n   'limitShareChat': 0,\n   'inStoreBookId': '23774475',\n   'blockSaveImg': 0,\n   'language': 'zh',\n   'hideUpdateTime': False,\n   'isEPUBComics': 0,\n   'webBookControl': 0,\n   'secret': 1,\n   'readUpdateTime': 1705418514,\n   'finishReading': 0,\n   'paid': 0,\n   'updateTime': 1705392955},\n  {'bookId': '822995',\n   'title': '明朝那些事儿（全集）',\n   'author': '当年明月',\n   'cover': 'https://cdn.weread.qq.com/weread/cover/97/yuewen_822995/s_yuewen_8229951695023669.jpg',\n   'version': 1133940382,\n   'format': 'epub',\n   'type': 0,\n   'price': 93.8,\n   'originalPrice': 0,\n   'soldout': 0,\n   'bookStatus': 1,\n   'payType': 4097,\n   'lastChapterCreateTime': 1683651002,\n   'centPrice': 9380,\n   'finished': 1,\n   'maxFreeChapter': 41,\n   'free': 0,\n   'mcardDiscount': 0,\n   'ispub': 1,\n   'extra_type': 5,\n   'updateTime': 1703165987,\n   'publishTime': '2011-12-01 00:00:00',\n   'category': '历史-历史读物',\n   'categories': [{'categoryId': 200000,\n     'subCategoryId': 200003,\n     'categoryType': 0,\n     'title': '历史-历史读物'}],\n   'hasLecture': 0,\n   'lPushName': '一本书让你爱上历史。',\n   'lastChapterIdx': 377,\n   'paperBook': {'skuId': '10850277'},\n   'maxFreeInfo': {'maxFreeChapterIdx': 41,\n    'maxFreeChapterUid': 41,\n    'maxFreeChapterRatio': 34},\n   'copyrightChapterUids': [2],\n   'hasKeyPoint': True,\n   'blockSaveImg': 0,\n   'language': 'zh',\n   'hideUpdateTime': False,\n   'isEPUBComics': 0,\n   'webBookControl': 0,\n   'secret': 0,\n   'readUpdateTime': 1704952322,\n   'finishReading': 0,\n   'paid': 1},\n  {'bookId': 'CB_519AbzAbDC1u6li6keADS0AR',\n   'title': '可能性的艺术：比较政治学30讲（学者刘瑜比较政治学新著，跳出现象，通过比较洞察政治，突破认知偏见，在浩瀚的可能性中理解我们自身 理想国出品）',\n   'author': '刘瑜',\n   'cover': 'https://res.weread.qq.com/wrepub/CB_B9n4pX4qrFlb6i36gw02z0gt_parsecover',\n   'version': 1802942228,\n   'format': 'epub',\n   'type': 0,\n   'price': 0,\n   'originalPrice': 0,\n   'soldout': 0,\n   'bookStatus': 1,\n   'payType': 33,\n   'centPrice': 0,\n   'finished': 1,\n   'maxFreeChapter': 0,\n   'free': 1,\n   'mcardDiscount': 0,\n   'ispub': 0,\n   'lastChapterCreateTime': 0,\n   'publishTime': '',\n   'hasLecture': 0,\n   'lastChapterIdx': 41,\n   'paperBook': {'skuId': ''},\n   'maxFreeInfo': {'maxFreeChapterIdx': 0,\n    'maxFreeChapterUid': 0,\n    'maxFreeChapterRatio': 0},\n   'copyrightChapterUids': [],\n   'hasKeyPoint': True,\n   'limitShareChat': 0,\n   'inStoreBookId': '3300016646',\n   'blockSaveImg': 0,\n   'language': 'zh',\n   'hideUpdateTime': False,\n   'isEPUBComics': 0,\n   'webBookControl': 0,\n   'secret': 1,\n   'readUpdateTime': 1705671232,\n   'finishReading': 1,\n   'paid': 0,\n   'updateTime': 1705418587},\n  {'bookId': '718499',\n   'title': '忆风舞，情一诺',\n   'author': '猫音',\n   'cover': 'https://cdn.weread.qq.com/weread/cover/34/yuewen_718499/s_yuewen_7184991703749098.jpg',\n   'version': 0,\n   'format': 'txt',\n   'type': 0,\n   'price': -1,\n   'originalPrice': 0,\n   'soldout': 1,\n   'bookStatus': 2,\n   'payType': 2,\n   'lastChapterCreateTime': 1442912537,\n   'centPrice': 1665,\n   'finished': 1,\n   'maxFreeChapter': 30,\n   'free': 0,\n   'mcardDiscount': 20,\n   'ispub': 2,\n   'extra_type': 1,\n   'updateTime': 1703749099,\n   'publishTime': '2013-09-01 00:00:00',\n   'paid': 1,\n   'category': '女生小说-古代言情',\n   'categories': [{'categoryId': 2000000,\n     'subCategoryId': 2000005,\n     'categoryType': 2,\n     'title': '女生小说-古代言情'}],\n   'hasLecture': 0,\n   'lastChapterIdx': 122,\n   'paperBook': {'skuId': '11309247'},\n   'maxFreeInfo': {'maxFreeChapterIdx': 30,\n    'maxFreeChapterUid': 30,\n    'maxFreeChapterRatio': 100},\n   'copyrightChapterUids': [],\n   'hasKeyPoint': False,\n   'blockSaveImg': 0,\n   'language': 'zh',\n   'hideUpdateTime': True,\n   'isEPUBComics': 0,\n   'webBookControl': 0,\n   'secret': 1,\n   'readUpdateTime': 1445484483,\n   'finishReading': 0},\n  {'bookId': '609134',\n   'title': '未来不迎，过往不恋',\n   'author': '苏辛',\n   'cover': 'https://wfqqreader-1252317822.image.myqcloud.com/cover/134/609134/s_609134.jpg',\n   'version': 0,\n   'format': 'txt',\n   'type': 0,\n   'price': 2.0,\n   'originalPrice': 0,\n   'soldout': 1,\n   'bookStatus': 1,\n   'payType': 1,\n   'lastChapterCreateTime': 1555470274,\n   'centPrice': 200,\n   'finished': 1,\n   'maxFreeChapter': 3,\n   'free': 0,\n   'mcardDiscount': 0,\n   'ispub': 1,\n   'extra_type': 1,\n   'updateTime': 1527840580,\n   'publishTime': '2014-05-01 00:00:00',\n   'category': '文学-散文杂著',\n   'categories': [{'categoryId': 300000,\n     'subCategoryId': 300005,\n     'categoryType': 0,\n     'title': '文学-散文杂著'}],\n   'hasLecture': 0,\n   'lastChapterIdx': 5,\n   'paperBook': {'skuId': '11436305'},\n   'maxFreeInfo': {'maxFreeChapterIdx': 3,\n    'maxFreeChapterUid': 7,\n    'maxFreeChapterRatio': 100},\n   'copyrightChapterUids': [],\n   'hasKeyPoint': False,\n   'blockSaveImg': 0,\n   'language': 'zh',\n   'hideUpdateTime': True,\n   'isEPUBComics': 0,\n   'webBookControl': 0,\n   'secret': 1,\n   'readUpdateTime': 1445482494,\n   'finishReading': 0,\n   'paid': 1},\n  {'bookId': '748278',\n   'title': '秘密花园：THE SECRET GARDEN（英文原版）',\n   'author': '伯内特',\n   'cover': 'https://cdn.weread.qq.com/weread/cover/76/YueWen_748278/s_YueWen_748278.jpg',\n   'version': 1344232907,\n   'format': 'epub',\n   'type': 0,\n   'price': 3.99,\n   'originalPrice': 0,\n   'soldout': 0,\n   'bookStatus': 1,\n   'payType': 4097,\n   'lastChapterCreateTime': 1695700533,\n   'centPrice': 399,\n   'finished': 1,\n   'maxFreeChapter': 6,\n   'free': 0,\n   'mcardDiscount': 0,\n   'ispub': 1,\n   'extra_type': 5,\n   'updateTime': 1695701429,\n   'publishTime': '2015-11-01 00:00:00',\n   'category': '原版书-英文原版',\n   'categories': [{'categoryId': 1800000,\n     'subCategoryId': 1800001,\n     'categoryType': 0,\n     'title': '原版书-英文原版'}],\n   'hasLecture': 1,\n   'lastChapterIdx': 29,\n   'paperBook': {'skuId': '11798258'},\n   'maxFreeInfo': {'maxFreeChapterIdx': 6,\n    'maxFreeChapterUid': 34,\n    'maxFreeChapterRatio': 36},\n   'otherType': [{'type': 'epub',\n     'showType': True,\n     'translateStatus': 'close',\n     'translateDone': True}],\n   'copyrightChapterUids': [30],\n   'hasKeyPoint': False,\n   'blockSaveImg': 0,\n   'language': 'en',\n   'hideUpdateTime': False,\n   'isEPUBComics': 0,\n   'webBookControl': 0,\n   'secret': 0,\n   'readUpdateTime': 1455584562,\n   'finishReading': 0,\n   'paid': 1},\n  {'bookId': '3300016646',\n   'title': '可能性的艺术：比较政治学30讲',\n   'author': '刘瑜',\n   'cover': 'https://cdn.weread.qq.com/weread/cover/46/3300016646/s_3300016646.jpg',\n   'version': 1978795790,\n   'format': 'epub',\n   'type': 0,\n   'price': 57.4,\n   'originalPrice': 0,\n   'soldout': 0,\n   'bookStatus': 1,\n   'payType': 1048577,\n   'lastChapterCreateTime': 1682183107,\n   'centPrice': 5740,\n   'finished': 1,\n   'maxFreeChapter': 7,\n   'free': 0,\n   'mcardDiscount': 0,\n   'ispub': 1,\n   'extra_type': 5,\n   'updateTime': 1694008857,\n   'publishTime': '2022-04-01 00:00:00',\n   'category': '政治军事-政治',\n   'categories': [{'categoryId': 1200000,\n     'subCategoryId': 1200002,\n     'categoryType': 0,\n     'title': '政治军事-政治'}],\n   'hasLecture': 0,\n   'lastChapterIdx': 39,\n   'paperBook': {'skuId': '13714992'},\n   'maxFreeInfo': {'maxFreeChapterIdx': 7,\n    'maxFreeChapterUid': 73,\n    'maxFreeChapterRatio': 81},\n   'copyrightChapterUids': [68],\n   'hasKeyPoint': True,\n   'blockSaveImg': 0,\n   'language': 'zh',\n   'hideUpdateTime': False,\n   'isEPUBComics': 0,\n   'webBookControl': 0,\n   'secret': 0,\n   'readUpdateTime': 1705500587,\n   'finishReading': 0,\n   'paid': 0},\n  {'bookId': '3300070929',\n   'title': '埃隆·马斯克传',\n   'author': '沃尔特·艾萨克森',\n   'translator': '孙思远 刘家琦',\n   'cover': 'https://cdn.weread.qq.com/weread/cover/37/cpplatform_gmaqcuuuamjkvu7knomjim/s_cpplatform_gmaqcuuuamjkvu7knomjim1703077934.jpg',\n   'version': 966430902,\n   'format': 'epub',\n   'type': 0,\n   'price': 69.0,\n   'originalPrice': 0,\n   'soldout': 0,\n   'bookStatus': 1,\n   'payType': 1,\n   'lastChapterCreateTime': 1703052622,\n   'centPrice': 6900,\n   'finished': 1,\n   'maxFreeChapter': 13,\n   'free': 0,\n   'mcardDiscount': 0,\n   'ispub': 1,\n   'extra_type': 5,\n   'updateTime': 1703077934,\n   'publishTime': '2023-09-01 00:00:00',\n   'category': '人物传记-财经人物',\n   'categories': [{'categoryId': 500000,\n     'subCategoryId': 500001,\n     'categoryType': 0,\n     'title': '人物传记-财经人物'}],\n   'hasLecture': 0,\n   'shouldHideTTS': 1,\n   'lastChapterIdx': 101,\n   'paperBook': {'skuId': ''},\n   'maxFreeInfo': {'maxFreeChapterIdx': 13,\n    'maxFreeChapterUid': 26,\n    'maxFreeChapterRatio': 100},\n   'copyrightChapterUids': [15],\n   'hasKeyPoint': False,\n   'blockSaveImg': 0,\n   'language': 'zh',\n   'hideUpdateTime': False,\n   'isEPUBComics': 0,\n   'webBookControl': 1,\n   'secret': 0,\n   'readUpdateTime': 1705671212,\n   'finishReading': 0,\n   'paid': 0},\n  {'bookId': '23791375',\n   'title': '蝇王',\n   'author': '威廉·戈尔丁',\n   'translator': '龚志成',\n   'cover': 'https://cdn.weread.qq.com/weread/cover/59/YueWen_23791375/s_YueWen_23791375.jpg',\n   'version': 263490319,\n   'format': 'epub',\n   'type': 0,\n   'price': 38.99,\n   'originalPrice': 0,\n   'soldout': 0,\n   'bookStatus': 1,\n   'payType': 1048577,\n   'lastChapterCreateTime': 1704909003,\n   'centPrice': 3899,\n   'finished': 1,\n   'maxFreeChapter': 6,\n   'free': 0,\n   'mcardDiscount': 0,\n   'ispub': 1,\n   'extra_type': 5,\n   'updateTime': 1704909901,\n   'publishTime': '2014-12-01 00:00:00',\n   'category': '文学-外国文学',\n   'categories': [{'categoryId': 300000,\n     'subCategoryId': 300013,\n     'categoryType': 0,\n     'title': '文学-外国文学'},\n    {'categoryId': 300000,\n     'subCategoryId': 300014,\n     'categoryType': 0,\n     'title': '文学-世界名著'}],\n   'hasLecture': 0,\n   'lastChapterIdx': 17,\n   'paperBook': {'skuId': '13219706'},\n   'maxFreeInfo': {'maxFreeChapterIdx': 6,\n    'maxFreeChapterUid': 21,\n    'maxFreeChapterRatio': 15},\n   'copyrightChapterUids': [17],\n   'hasKeyPoint': False,\n   'blockSaveImg': 0,\n   'language': 'zh',\n   'hideUpdateTime': False,\n   'isEPUBComics': 0,\n   'webBookControl': 0,\n   'secret': 0,\n   'readUpdateTime': 1705594532,\n   'finishReading': 0,\n   'paid': 0},\n  {'bookId': '3300071803',\n   'title': '门阀|“中古第一家族”琅琊王氏传承千年的成事智慧（独家首发）',\n   'author': '南朝',\n   'cover': 'https://cdn.weread.qq.com/weread/cover/45/cpplatform_q1oinarbezg6tjknar2frm/s_cpplatform_q1oinarbezg6tjknar2frm1695374996.jpg',\n   'version': 731539847,\n   'format': 'epub',\n   'type': 0,\n   'price': 45.0,\n   'originalPrice': 0,\n   'soldout': 0,\n   'bookStatus': 1,\n   'payType': 4097,\n   'lastChapterCreateTime': 1695374999,\n   'centPrice': 4500,\n   'finished': 1,\n   'maxFreeChapter': 7,\n   'free': 0,\n   'mcardDiscount': 0,\n   'ispub': 1,\n   'extra_type': 5,\n   'updateTime': 1696738454,\n   'publishTime': '2023-07-01 00:00:00',\n   'category': '历史-历史小说',\n   'categories': [{'categoryId': 200000,\n     'subCategoryId': 200004,\n     'categoryType': 0,\n     'title': '历史-历史小说'}],\n   'hasLecture': 0,\n   'lastChapterIdx': 62,\n   'paperBook': {'skuId': ''},\n   'maxFreeInfo': {'maxFreeChapterIdx': 7,\n    'maxFreeChapterUid': 7,\n    'maxFreeChapterRatio': 8},\n   'copyrightChapterUids': [2],\n   'hasKeyPoint': False,\n   'blockSaveImg': 0,\n   'language': 'zh',\n   'hideUpdateTime': False,\n   'isEPUBComics': 0,\n   'webBookControl': 0,\n   'secret': 0,\n   'readUpdateTime': 1704874684,\n   'finishReading': 0,\n   'paid': 0},\n  {'bookId': '165470',\n   'title': '边城',\n   'author': '沈从文',\n   'cover': 'https://cdn.weread.qq.com/weread/cover/25/yuewen_165470/s_yuewen_1654701703658251.jpg',\n   'version': 0,\n   'format': 'txt',\n   'type': 0,\n   'price': 0,\n   'originalPrice': 0,\n   'soldout': 1,\n   'bookStatus': 1,\n   'payType': 33,\n   'lastChapterCreateTime': 1462788512,\n   'centPrice': 0,\n   'finished': 1,\n   'maxFreeChapter': 5,\n   'free': 1,\n   'mcardDiscount': 0,\n   'ispub': 1,\n   'updateTime': 1462771949,\n   'publishTime': '1970-01-01 00:00:00.0',\n   'category': '精品小说-社会小说',\n   'categories': [{'categoryId': 100000,\n     'subCategoryId': 100001,\n     'categoryType': 0,\n     'title': '精品小说-社会小说'}],\n   'hasLecture': 0,\n   'lastChapterIdx': 26,\n   'paperBook': {'skuId': ''},\n   'maxFreeInfo': {'maxFreeChapterIdx': 5,\n    'maxFreeChapterUid': 15,\n    'maxFreeChapterRatio': 100},\n   'copyrightChapterUids': [],\n   'hasKeyPoint': False,\n   'blockSaveImg': 0,\n   'language': 'zh',\n   'hideUpdateTime': True,\n   'isEPUBComics': 0,\n   'webBookControl': 0,\n   'secret': 0,\n   'readUpdateTime': 1446612800,\n   'finishReading': 0,\n   'paid': 1},\n  {'bookId': '43896728',\n   'title': '不能承受的生命之轻（米兰·昆德拉作品系列·2022版）',\n   'author': '[法]米兰·昆德拉',\n   'translator': '许钧',\n   'cover': 'https://cdn.weread.qq.com/weread/cover/3/YueWen_43896728/s_YueWen_43896728.jpg',\n   'version': 1266999731,\n   'format': 'epub',\n   'type': 0,\n   'price': 87.99,\n   'originalPrice': 0,\n   'soldout': 0,\n   'bookStatus': 1,\n   'payType': 1048577,\n   'lastChapterCreateTime': 1691603999,\n   'centPrice': 8799,\n   'finished': 1,\n   'maxFreeChapter': 20,\n   'free': 0,\n   'mcardDiscount': 0,\n   'ispub': 1,\n   'extra_type': 5,\n   'updateTime': 1704873738,\n   'publishTime': '2022-04-01 00:00:00',\n   'category': '文学-外国文学',\n   'categories': [{'categoryId': 300000,\n     'subCategoryId': 300013,\n     'categoryType': 0,\n     'title': '文学-外国文学'}],\n   'hasLecture': 1,\n   'lPushName': '一切都是马上经历，仅此一次，不能准备。',\n   'lastChapterIdx': 156,\n   'paperBook': {'skuId': '13697490'},\n   'maxFreeInfo': {'maxFreeChapterIdx': 20,\n    'maxFreeChapterUid': 176,\n    'maxFreeChapterRatio': 18},\n   'copyrightChapterUids': [158],\n   'hasKeyPoint': False,\n   'blockSaveImg': 0,\n   'language': 'zh-CN',\n   'hideUpdateTime': False,\n   'isEPUBComics': 0,\n   'webBookControl': 0,\n   'secret': 0,\n   'readUpdateTime': 1704874347,\n   'finishReading': 0,\n   'paid': 0}],\n 'lectureBooks': [],\n 'lectureSynckey': 1705674231,\n 'lectureUpdate': [],\n 'mp': {'show': 1,\n  'book': {'bookId': 'mpbook',\n   'title': '文章收藏',\n   'cover': 'https://weread-1258476243.file.myqcloud.com/app/assets/bookcover/book_cover_app_favorite_articles.png',\n   'secret': 1,\n   'payType': 32,\n   'paid': 0,\n   'updateTime': 0,\n   'readUpdateTime': 0,\n   'isTop': False}}}"
     },
     "execution_count": 20,
     "metadata": {},
     "output_type": "execute_result"
    }
   ],
   "source": [
    "data"
   ],
   "metadata": {
    "collapsed": false,
    "ExecuteTime": {
     "end_time": "2024-01-19T14:24:04.991617Z",
     "start_time": "2024-01-19T14:24:04.983927Z"
    }
   }
  },
  {
   "cell_type": "code",
   "execution_count": 21,
   "outputs": [
    {
     "data": {
      "text/plain": "dict_keys(['bookCount', 'removedArchive', 'bookProgress', 'synckey', 'removed', 'lectureRemoved', 'archive', 'books', 'lectureBooks', 'lectureSynckey', 'lectureUpdate', 'mp'])"
     },
     "execution_count": 21,
     "metadata": {},
     "output_type": "execute_result"
    }
   ],
   "source": [
    "data.keys()"
   ],
   "metadata": {
    "collapsed": false,
    "ExecuteTime": {
     "end_time": "2024-01-19T14:24:37.250422Z",
     "start_time": "2024-01-19T14:24:37.242417Z"
    }
   }
  },
  {
   "cell_type": "code",
   "execution_count": 24,
   "outputs": [
    {
     "data": {
      "text/plain": "[{'bookId': '43896728',\n  'progress': 0,\n  'chapterUid': 161,\n  'chapterOffset': 0,\n  'chapterIdx': 5,\n  'appId': '124177027',\n  'updateTime': 1704874347,\n  'readingTime': 15,\n  'synckey': 2025407949},\n {'bookId': '165470',\n  'progress': 2,\n  'chapterUid': 1,\n  'chapterOffset': 4615,\n  'chapterIdx': 0,\n  'appId': '167337045',\n  'updateTime': 1446612800,\n  'readingTime': 635},\n {'bookId': '3300070929',\n  'progress': 1,\n  'chapterUid': 17,\n  'chapterOffset': 4626,\n  'chapterIdx': 4,\n  'appId': '124177027',\n  'updateTime': 1705671212,\n  'readingTime': 557,\n  'synckey': 1493290031},\n {'bookId': '675678',\n  'progress': 1,\n  'chapterUid': 1,\n  'chapterOffset': 621,\n  'chapterIdx': 0,\n  'appId': '167337045',\n  'updateTime': 1445484508,\n  'readingTime': 16},\n {'bookId': '855812',\n  'progress': 0,\n  'chapterUid': 37,\n  'chapterOffset': 0,\n  'chapterIdx': 6,\n  'appId': '124177027',\n  'updateTime': 1705641384,\n  'readingTime': 6,\n  'synckey': 331447545},\n {'bookId': '31933731',\n  'progress': 6,\n  'chapterUid': 56,\n  'chapterOffset': 0,\n  'chapterIdx': 7,\n  'appId': '124177027',\n  'updateTime': 1704875308,\n  'readingTime': 43,\n  'synckey': 335926566},\n {'bookId': '663008',\n  'progress': 0,\n  'chapterUid': 2,\n  'chapterOffset': 0,\n  'chapterIdx': 0,\n  'appId': '167337045',\n  'updateTime': 1455583399,\n  'readingTime': 45},\n {'bookId': '703939',\n  'progress': 0,\n  'chapterUid': 2,\n  'chapterOffset': 0,\n  'chapterIdx': 2,\n  'appId': '124177027',\n  'updateTime': 1705393035,\n  'readingTime': 23,\n  'synckey': 789382403},\n {'bookId': '3300016646',\n  'progress': 0,\n  'chapterUid': 102,\n  'chapterOffset': 0,\n  'chapterIdx': 36,\n  'appId': '124177027',\n  'updateTime': 1705500587,\n  'readingTime': 75,\n  'synckey': 2011936564},\n {'bookId': '40296160',\n  'progress': 0,\n  'chapterUid': 1,\n  'chapterOffset': 0,\n  'chapterIdx': 1,\n  'appId': '124177027',\n  'updateTime': 1704874750,\n  'readingTime': 13,\n  'synckey': 789365242},\n {'bookId': '31486560',\n  'progress': 0,\n  'chapterUid': 3,\n  'chapterOffset': 4154,\n  'chapterIdx': 3,\n  'appId': 'wb115321887466h1797117880',\n  'updateTime': 1705395080,\n  'readingTime': 6,\n  'synckey': 332721819},\n {'bookId': 'CB_2sV3wZ3xvC1u6li6ke91S9PW',\n  'progress': 0,\n  'chapterUid': 6,\n  'chapterOffset': 0,\n  'chapterIdx': 6,\n  'appId': '124177027',\n  'updateTime': 1705418514,\n  'readingTime': 102,\n  'synckey': 789451047},\n {'bookId': 'CB_519AbzAbDC1u6li6keADS0AR',\n  'progress': 96,\n  'chapterUid': 41,\n  'chapterOffset': 0,\n  'chapterIdx': 41,\n  'appId': '124177027',\n  'updateTime': 1705671232,\n  'readingTime': 8032,\n  'synckey': 333592670},\n {'bookId': '718499',\n  'progress': 0,\n  'chapterUid': 1,\n  'chapterOffset': 2552,\n  'chapterIdx': 0,\n  'appId': '167337045',\n  'updateTime': 1445484483,\n  'readingTime': 300},\n {'bookId': '748278',\n  'progress': 1,\n  'chapterUid': 3,\n  'chapterOffset': 2818,\n  'chapterIdx': 0,\n  'appId': '167337045',\n  'updateTime': 1455584562,\n  'readingTime': 478}]"
     },
     "execution_count": 24,
     "metadata": {},
     "output_type": "execute_result"
    }
   ],
   "source": [
    "data['bookProgress']"
   ],
   "metadata": {
    "collapsed": false,
    "ExecuteTime": {
     "end_time": "2024-01-19T14:26:35.690733Z",
     "start_time": "2024-01-19T14:26:35.681769Z"
    }
   }
  },
  {
   "cell_type": "code",
   "execution_count": 22,
   "outputs": [
    {
     "data": {
      "text/plain": "[{'bookId': '26619504',\n  'title': '征服与革命中的阿拉伯人：1516年至今',\n  'author': '尤金·罗根',\n  'translator': '廉超群,李海鹏',\n  'cover': 'https://wfqqreader-1252317822.image.myqcloud.com/cover/504/26619504/s_26619504.jpg',\n  'version': 782112298,\n  'format': 'epub',\n  'type': 0,\n  'price': 69.9,\n  'originalPrice': 0,\n  'soldout': 0,\n  'bookStatus': 1,\n  'payType': 4097,\n  'lastChapterCreateTime': 0,\n  'centPrice': 6990,\n  'finished': 1,\n  'maxFreeChapter': 9,\n  'free': 0,\n  'mcardDiscount': 0,\n  'ispub': 1,\n  'extra_type': 1,\n  'updateTime': 1693492606,\n  'publishTime': '2019-07-01 00:00:00',\n  'category': '历史-世界史',\n  'categories': [{'categoryId': 200000,\n    'subCategoryId': 200006,\n    'categoryType': 0,\n    'title': '历史-世界史'}],\n  'hasLecture': 1,\n  'lastChapterIdx': 25,\n  'paperBook': {'skuId': '12666880'},\n  'maxFreeInfo': {'maxFreeChapterIdx': 9,\n   'maxFreeChapterUid': 9,\n   'maxFreeChapterRatio': 25},\n  'copyrightChapterUids': [2],\n  'hasKeyPoint': True,\n  'blockSaveImg': 0,\n  'language': 'zh',\n  'hideUpdateTime': False,\n  'isEPUBComics': 0,\n  'webBookControl': 0,\n  'secret': 0,\n  'readUpdateTime': 1704874407,\n  'finishReading': 0,\n  'paid': 0},\n {'bookId': '907336',\n  'title': '耶路撒冷三千年',\n  'author': '西蒙·蒙蒂菲奥里',\n  'translator': '张倩红,马丹静',\n  'cover': 'https://cdn.weread.qq.com/weread/cover/10/YueWen_907336/s_YueWen_907336.jpg',\n  'version': 1433371746,\n  'format': 'epub',\n  'type': 0,\n  'price': 22.19,\n  'originalPrice': 0,\n  'soldout': 0,\n  'bookStatus': 1,\n  'payType': 4097,\n  'lastChapterCreateTime': 1686244810,\n  'centPrice': 2219,\n  'finished': 1,\n  'maxFreeChapter': 12,\n  'free': 0,\n  'mcardDiscount': 0,\n  'ispub': 1,\n  'extra_type': 5,\n  'updateTime': 1693405195,\n  'publishTime': '2017-04-01 00:00:00',\n  'category': '历史-世界史',\n  'categories': [{'categoryId': 200000,\n    'subCategoryId': 200006,\n    'categoryType': 0,\n    'title': '历史-世界史'}],\n  'hasLecture': 0,\n  'lastChapterIdx': 74,\n  'paperBook': {'skuId': '11555281'},\n  'maxFreeInfo': {'maxFreeChapterIdx': 12,\n   'maxFreeChapterUid': 85,\n   'maxFreeChapterRatio': 10},\n  'copyrightChapterUids': [75],\n  'hasKeyPoint': True,\n  'blockSaveImg': 0,\n  'language': 'zh',\n  'hideUpdateTime': False,\n  'isEPUBComics': 0,\n  'webBookControl': 0,\n  'secret': 0,\n  'readUpdateTime': 1704874392,\n  'finishReading': 0,\n  'paid': 0},\n {'bookId': '703939',\n  'title': '你若盛开，清风自来',\n  'author': '杨承清编著',\n  'cover': 'https://cdn.weread.qq.com/weread/cover/41/YueWen_703939/s_YueWen_703939.jpg',\n  'version': 0,\n  'format': 'txt',\n  'type': 0,\n  'price': 1.99,\n  'originalPrice': 0,\n  'soldout': 0,\n  'bookStatus': 1,\n  'payType': 1048577,\n  'lastChapterCreateTime': 1630984009,\n  'centPrice': 199,\n  'finished': 1,\n  'maxFreeChapter': 3,\n  'free': 0,\n  'mcardDiscount': 0,\n  'ispub': 1,\n  'extra_type': 1,\n  'updateTime': 1668627766,\n  'publishTime': '2015-01-01 00:00:00',\n  'category': '个人成长-情绪心灵',\n  'categories': [{'categoryId': 1000000,\n    'subCategoryId': 1000003,\n    'categoryType': 0,\n    'title': '个人成长-情绪心灵'}],\n  'hasLecture': 0,\n  'lastChapterIdx': 5,\n  'paperBook': {'skuId': ''},\n  'maxFreeInfo': {'maxFreeChapterIdx': 3,\n   'maxFreeChapterUid': 8,\n   'maxFreeChapterRatio': 100},\n  'copyrightChapterUids': [],\n  'hasKeyPoint': True,\n  'blockSaveImg': 0,\n  'language': 'zh',\n  'hideUpdateTime': False,\n  'isEPUBComics': 0,\n  'webBookControl': 0,\n  'secret': 1,\n  'readUpdateTime': 1705393035,\n  'finishReading': 0,\n  'paid': 1},\n {'bookId': '663008',\n  'title': '消失的地平线',\n  'author': '詹姆斯·希尔顿',\n  'translator': '陶曚',\n  'cover': 'https://cdn.weread.qq.com/weread/cover/89/YueWen_663008/s_YueWen_663008.jpg',\n  'version': 0,\n  'format': 'txt',\n  'type': 0,\n  'price': 28.0,\n  'originalPrice': 0,\n  'soldout': 0,\n  'bookStatus': 1,\n  'payType': 1048577,\n  'lastChapterCreateTime': 1581688276,\n  'centPrice': 2800,\n  'finished': 1,\n  'maxFreeChapter': 3,\n  'free': 0,\n  'mcardDiscount': 0,\n  'ispub': 1,\n  'extra_type': 1,\n  'updateTime': 1703159696,\n  'publishTime': '2015-06-01 00:00:00',\n  'category': '文学-经典作品',\n  'categories': [{'categoryId': 300000,\n    'subCategoryId': 300004,\n    'categoryType': 0,\n    'title': '文学-经典作品'}],\n  'hasLecture': 0,\n  'lastChapterIdx': 14,\n  'paperBook': {'skuId': '13268566'},\n  'maxFreeInfo': {'maxFreeChapterIdx': 3,\n   'maxFreeChapterUid': 4,\n   'maxFreeChapterRatio': 100},\n  'copyrightChapterUids': [],\n  'hasKeyPoint': False,\n  'blockSaveImg': 0,\n  'language': 'zh',\n  'hideUpdateTime': False,\n  'isEPUBComics': 0,\n  'webBookControl': 0,\n  'secret': 0,\n  'readUpdateTime': 1455583399,\n  'finishReading': 0,\n  'paid': 0},\n {'bookId': '536041',\n  'title': '凉生，我们可不可以不忧伤',\n  'author': '乐小米',\n  'cover': 'https://cdn.weread.qq.com/weread/cover/77/YueWen_536041/s_YueWen_536041.jpg',\n  'version': 135690974,\n  'format': 'epub',\n  'type': 0,\n  'price': 30.2,\n  'originalPrice': 0,\n  'soldout': 0,\n  'bookStatus': 1,\n  'payType': 1048577,\n  'lastChapterCreateTime': 1689615601,\n  'centPrice': 3020,\n  'finished': 1,\n  'maxFreeChapter': 16,\n  'free': 0,\n  'mcardDiscount': 0,\n  'ispub': 1,\n  'extra_type': 1,\n  'updateTime': 1689615601,\n  'publishTime': '2014-12-01 00:00:00',\n  'category': '精品小说-情感小说',\n  'categories': [{'categoryId': 100000,\n    'subCategoryId': 100002,\n    'categoryType': 0,\n    'title': '精品小说-情感小说'}],\n  'authorVids': '222135613',\n  'hasLecture': 0,\n  'lastChapterIdx': 138,\n  'paperBook': {'skuId': ''},\n  'maxFreeInfo': {'maxFreeChapterIdx': 16,\n   'maxFreeChapterUid': 16,\n   'maxFreeChapterRatio': 34},\n  'copyrightChapterUids': [2],\n  'hasKeyPoint': False,\n  'blockSaveImg': 0,\n  'language': 'zh',\n  'hideUpdateTime': False,\n  'isEPUBComics': 0,\n  'webBookControl': 0,\n  'secret': 1,\n  'readUpdateTime': 1445482494,\n  'finishReading': 0,\n  'paid': 1},\n {'bookId': '3300061154',\n  'title': '芯片战争：世界最关键技术的争夺战（财之道丛书）',\n  'author': '克里斯·米勒',\n  'translator': '蔡树军',\n  'cover': 'https://cdn.weread.qq.com/weread/cover/82/cpplatform_7fknrczhjmrhcrf8vygbvx/s_cpplatform_7fknrczhjmrhcrf8vygbvx1686134532.jpg',\n  'version': 1753215140,\n  'format': 'epub',\n  'type': 0,\n  'price': 52.8,\n  'originalPrice': 0,\n  'soldout': 0,\n  'bookStatus': 1,\n  'payType': 4097,\n  'lastChapterCreateTime': 1686134541,\n  'centPrice': 5280,\n  'finished': 1,\n  'maxFreeChapter': 12,\n  'free': 0,\n  'mcardDiscount': 0,\n  'ispub': 1,\n  'extra_type': 5,\n  'updateTime': 1686134541,\n  'publishTime': '2023-05-01 00:00:00',\n  'category': '经济理财-财经',\n  'categories': [{'categoryId': 1100000,\n    'subCategoryId': 1100001,\n    'categoryType': 0,\n    'title': '经济理财-财经'}],\n  'hasLecture': 1,\n  'lastChapterIdx': 67,\n  'paperBook': {'skuId': ''},\n  'maxFreeInfo': {'maxFreeChapterIdx': 12,\n   'maxFreeChapterUid': 12,\n   'maxFreeChapterRatio': 81},\n  'copyrightChapterUids': [2],\n  'hasKeyPoint': True,\n  'blockSaveImg': 0,\n  'language': 'zh',\n  'hideUpdateTime': False,\n  'isEPUBComics': 0,\n  'webBookControl': 0,\n  'secret': 0,\n  'readUpdateTime': 1704874598,\n  'finishReading': 0,\n  'paid': 0},\n {'bookId': '675678',\n  'title': '大秦帝国（套装版）',\n  'author': '孙皓晖',\n  'cover': 'https://cdn.weread.qq.com/weread/cover/11/yuewen_675678/s_yuewen_6756781676967871.jpg',\n  'version': 1888169002,\n  'format': 'epub',\n  'type': 0,\n  'price': 199.0,\n  'originalPrice': 0,\n  'soldout': 0,\n  'bookStatus': 1,\n  'payType': 1048577,\n  'lastChapterCreateTime': 1682529660,\n  'centPrice': 19900,\n  'finished': 1,\n  'maxFreeChapter': 73,\n  'free': 0,\n  'mcardDiscount': 0,\n  'ispub': 1,\n  'extra_type': 5,\n  'updateTime': 1704459187,\n  'publishTime': '2016-10-24 00:00:00',\n  'category': '历史-历史小说',\n  'categories': [{'categoryId': 200000,\n    'subCategoryId': 200004,\n    'categoryType': 0,\n    'title': '历史-历史小说'}],\n  'hasLecture': 1,\n  'lPushName': '央视热播剧《大秦帝国》原著小说',\n  'lastChapterIdx': 578,\n  'paperBook': {'skuId': '12016148'},\n  'maxFreeInfo': {'maxFreeChapterIdx': 73,\n   'maxFreeChapterUid': 201,\n   'maxFreeChapterRatio': 51},\n  'copyrightChapterUids': [130],\n  'hasKeyPoint': False,\n  'blockSaveImg': 0,\n  'language': 'zh',\n  'hideUpdateTime': False,\n  'isEPUBComics': 0,\n  'webBookControl': 0,\n  'secret': 1,\n  'readUpdateTime': 1445484508,\n  'finishReading': 0,\n  'paid': 1},\n {'bookId': '837932',\n  'title': '穷查理宝典：查理·芒格智慧箴言录（全新增订本）',\n  'author': '彼得·考夫曼',\n  'translator': '李继宏 等',\n  'cover': 'https://cdn.weread.qq.com/weread/cover/48/YueWen_837932/s_YueWen_837932.jpg',\n  'version': 1869223750,\n  'format': 'epub',\n  'type': 0,\n  'price': 131.6,\n  'originalPrice': 0,\n  'soldout': 0,\n  'bookStatus': 1,\n  'payType': 1048577,\n  'lastChapterCreateTime': 1682016078,\n  'centPrice': 13160,\n  'finished': 1,\n  'maxFreeChapter': 16,\n  'free': 0,\n  'mcardDiscount': 0,\n  'ispub': 1,\n  'extra_type': 1,\n  'updateTime': 1693403849,\n  'publishTime': '2021-07-01 00:00:00',\n  'category': '个人成长-励志成长',\n  'categories': [{'categoryId': 1000000,\n    'subCategoryId': 1000002,\n    'categoryType': 0,\n    'title': '个人成长-励志成长'}],\n  'hasLecture': 1,\n  'lPushName': '如果知道会死在哪里，那我永远不去那里。',\n  'lastChapterIdx': 83,\n  'paperBook': {'skuId': '13607690'},\n  'maxFreeInfo': {'maxFreeChapterIdx': 16,\n   'maxFreeChapterUid': 98,\n   'maxFreeChapterRatio': 24},\n  'copyrightChapterUids': [84],\n  'hasKeyPoint': False,\n  'blockSaveImg': 0,\n  'language': 'zh',\n  'hideUpdateTime': False,\n  'isEPUBComics': 0,\n  'webBookControl': 0,\n  'secret': 0,\n  'readUpdateTime': 1704874418,\n  'finishReading': 0,\n  'paid': 0},\n {'bookId': '31933731',\n  'title': '爆笑吧！心理学大神来了',\n  'author': '迟毓凯',\n  'cover': 'https://cdn.weread.qq.com/weread/cover/82/YueWen_31933731/s_YueWen_31933731.jpg',\n  'version': 793942527,\n  'format': 'epub',\n  'type': 0,\n  'price': 62.91,\n  'originalPrice': 0,\n  'soldout': 0,\n  'bookStatus': 1,\n  'payType': 1048577,\n  'lastChapterCreateTime': 1681840208,\n  'centPrice': 6291,\n  'finished': 1,\n  'maxFreeChapter': 7,\n  'free': 0,\n  'mcardDiscount': 0,\n  'ispub': 1,\n  'extra_type': 5,\n  'updateTime': 1703130821,\n  'publishTime': '2020-07-01 00:00:00',\n  'category': '心理-心理学应用',\n  'categories': [{'categoryId': 800000,\n    'subCategoryId': 800005,\n    'categoryType': 0,\n    'title': '心理-心理学应用'}],\n  'hasLecture': 1,\n  'lPushName': '看的是八卦，学的是心理学',\n  'lastChapterIdx': 24,\n  'paperBook': {'skuId': '12906156'},\n  'maxFreeInfo': {'maxFreeChapterIdx': 7,\n   'maxFreeChapterUid': 56,\n   'maxFreeChapterRatio': 68},\n  'copyrightChapterUids': [51],\n  'hasKeyPoint': True,\n  'blockSaveImg': 0,\n  'language': 'zh',\n  'hideUpdateTime': False,\n  'isEPUBComics': 0,\n  'webBookControl': 0,\n  'secret': 0,\n  'readUpdateTime': 1704875308,\n  'finishReading': 0,\n  'paid': 0},\n {'bookId': '855812',\n  'title': '人类简史：从动物到上帝',\n  'author': '尤瓦尔·赫拉利',\n  'translator': '林俊宏',\n  'cover': 'https://cdn.weread.qq.com/weread/cover/37/YueWen_855812/s_YueWen_855812.jpg',\n  'version': 1899683152,\n  'format': 'epub',\n  'type': 0,\n  'price': 40.8,\n  'originalPrice': 0,\n  'soldout': 0,\n  'bookStatus': 1,\n  'payType': 1048577,\n  'lastChapterCreateTime': 1682099408,\n  'centPrice': 4080,\n  'finished': 1,\n  'maxFreeChapter': 7,\n  'free': 0,\n  'mcardDiscount': 0,\n  'ispub': 1,\n  'extra_type': 5,\n  'updateTime': 1693404722,\n  'publishTime': '2017-02-23 00:00:00',\n  'category': '历史-世界史',\n  'categories': [{'categoryId': 200000,\n    'subCategoryId': 200006,\n    'categoryType': 0,\n    'title': '历史-世界史'}],\n  'hasLecture': 1,\n  'lPushName': '十万年前至少有六种人，为什么只剩我们',\n  'lastChapterIdx': 32,\n  'paperBook': {'skuId': '12125924'},\n  'maxFreeInfo': {'maxFreeChapterIdx': 7,\n   'maxFreeChapterUid': 38,\n   'maxFreeChapterRatio': 67},\n  'copyrightChapterUids': [33],\n  'hasKeyPoint': True,\n  'blockSaveImg': 0,\n  'language': 'zh',\n  'hideUpdateTime': False,\n  'isEPUBComics': 0,\n  'webBookControl': 0,\n  'secret': 0,\n  'readUpdateTime': 1705641384,\n  'finishReading': 0,\n  'paid': 0},\n {'bookId': 'CB_8DbAcFAbDC1u6li6keGMS3LU',\n  'title': '枪炮、病菌与钢铁 : 人类社会的命运 (世纪人文系列丛书·开放人文)',\n  'author': '贾雷德·戴蒙德',\n  'cover': 'https://res.weread.qq.com/wrepub/CB_4UZ71T73XF6J6i36gp1zPEWa_parsecover',\n  'version': 862132620,\n  'format': 'epub',\n  'type': 0,\n  'price': 0,\n  'originalPrice': 0,\n  'soldout': 0,\n  'bookStatus': 1,\n  'payType': 33,\n  'centPrice': 0,\n  'finished': 1,\n  'maxFreeChapter': 0,\n  'free': 1,\n  'mcardDiscount': 0,\n  'ispub': 0,\n  'lastChapterCreateTime': 0,\n  'publishTime': '',\n  'hasLecture': 0,\n  'lastChapterIdx': 33,\n  'paperBook': {'skuId': ''},\n  'maxFreeInfo': {'maxFreeChapterIdx': 0,\n   'maxFreeChapterUid': 0,\n   'maxFreeChapterRatio': 0},\n  'copyrightChapterUids': [],\n  'hasKeyPoint': True,\n  'limitShareChat': 0,\n  'blockSaveImg': 0,\n  'language': 'zh',\n  'hideUpdateTime': False,\n  'isEPUBComics': 0,\n  'webBookControl': 0,\n  'secret': 1,\n  'readUpdateTime': 1705418603,\n  'finishReading': 0,\n  'paid': 0,\n  'updateTime': 1705418603},\n {'bookId': '40296160',\n  'title': '人际网络',\n  'author': '吉姆·兰德尔',\n  'translator': '舒建广',\n  'cover': 'https://cdn.weread.qq.com/weread/cover/68/YueWen_40296160/s_YueWen_40296160.jpg',\n  'version': 1967170052,\n  'format': 'epub',\n  'type': 0,\n  'price': 29.99,\n  'originalPrice': 0,\n  'soldout': 0,\n  'bookStatus': 1,\n  'payType': 1048577,\n  'lastChapterCreateTime': 0,\n  'centPrice': 2999,\n  'finished': 1,\n  'maxFreeChapter': 3,\n  'free': 0,\n  'mcardDiscount': 0,\n  'ispub': 1,\n  'extra_type': 5,\n  'updateTime': 1693408424,\n  'publishTime': '2021-07-01 00:00:00',\n  'category': '个人成长-沟通表达',\n  'categories': [{'categoryId': 1000000,\n    'subCategoryId': 1000001,\n    'categoryType': 0,\n    'title': '个人成长-沟通表达'}],\n  'hasLecture': 0,\n  'lastChapterIdx': 19,\n  'paperBook': {'skuId': '13292552'},\n  'maxFreeInfo': {'maxFreeChapterIdx': 3,\n   'maxFreeChapterUid': 3,\n   'maxFreeChapterRatio': 100},\n  'copyrightChapterUids': [2],\n  'hasKeyPoint': True,\n  'blockSaveImg': 0,\n  'language': 'zh',\n  'hideUpdateTime': False,\n  'isEPUBComics': 0,\n  'webBookControl': 0,\n  'secret': 0,\n  'readUpdateTime': 1704874750,\n  'finishReading': 0,\n  'paid': 0},\n {'bookId': '216212',\n  'title': '小王子',\n  'author': '[法]安托万·德·圣埃克苏佩里著',\n  'translator': '李继宏',\n  'cover': 'https://cdn.weread.qq.com/weread/cover/40/yuewen_216212/s_yuewen_2162121686560140.jpg',\n  'version': 1545373799,\n  'format': 'epub',\n  'type': 0,\n  'price': 9.99,\n  'originalPrice': 0,\n  'soldout': 0,\n  'bookStatus': 1,\n  'payType': 4097,\n  'lastChapterCreateTime': 1682021406,\n  'centPrice': 999,\n  'finished': 1,\n  'maxFreeChapter': 3,\n  'free': 0,\n  'mcardDiscount': 0,\n  'ispub': 1,\n  'extra_type': 5,\n  'updateTime': 1705063431,\n  'publishTime': '2013-01-01 00:00:00',\n  'category': '文学-外国文学',\n  'categories': [{'categoryId': 300000,\n    'subCategoryId': 300013,\n    'categoryType': 0,\n    'title': '文学-外国文学'},\n   {'categoryId': 100000,\n    'subCategoryId': 100012,\n    'categoryType': 0,\n    'title': '精品小说-影视原著'}],\n  'hasLecture': 1,\n  'lastChapterIdx': 31,\n  'paperBook': {'skuId': '12378533'},\n  'maxFreeInfo': {'maxFreeChapterIdx': 3,\n   'maxFreeChapterUid': 33,\n   'maxFreeChapterRatio': 100},\n  'copyrightChapterUids': [32],\n  'hasKeyPoint': False,\n  'blockSaveImg': 0,\n  'language': 'zh-CN',\n  'hideUpdateTime': False,\n  'isEPUBComics': 0,\n  'webBookControl': 0,\n  'secret': 0,\n  'readUpdateTime': 1455583277,\n  'finishReading': 0,\n  'paid': 0},\n {'bookId': '703158',\n  'title': '不要让未来的你，讨厌现在的自己',\n  'author': '特立独行的猫',\n  'cover': 'https://wfqqreader-1252317822.image.myqcloud.com/cover/158/703158/s_703158.jpg',\n  'version': 0,\n  'format': 'txt',\n  'type': 0,\n  'price': 3.99,\n  'originalPrice': 0,\n  'soldout': 1,\n  'bookStatus': 1,\n  'payType': 1,\n  'lastChapterCreateTime': 1571894494,\n  'centPrice': 399,\n  'finished': 1,\n  'maxFreeChapter': 2,\n  'free': 0,\n  'mcardDiscount': 0,\n  'ispub': 1,\n  'extra_type': 1,\n  'updateTime': 1527840896,\n  'publishTime': '2014-07-01 00:00:00',\n  'category': '个人成长-人生哲学',\n  'categories': [{'categoryId': 1000000,\n    'subCategoryId': 1000004,\n    'categoryType': 0,\n    'title': '个人成长-人生哲学'}],\n  'hasLecture': 0,\n  'lastChapterIdx': 6,\n  'paperBook': {'skuId': '11495657'},\n  'maxFreeInfo': {'maxFreeChapterIdx': 2,\n   'maxFreeChapterUid': 2,\n   'maxFreeChapterRatio': 100},\n  'copyrightChapterUids': [],\n  'hasKeyPoint': True,\n  'blockSaveImg': 0,\n  'language': 'zh',\n  'hideUpdateTime': True,\n  'isEPUBComics': 0,\n  'webBookControl': 0,\n  'secret': 1,\n  'readUpdateTime': 1445482494,\n  'finishReading': 0,\n  'paid': 1},\n {'bookId': '31486560',\n  'title': '即兴表达',\n  'author': '王达峰',\n  'cover': 'https://cdn.weread.qq.com/weread/cover/47/YueWen_31486560/s_YueWen_31486560.jpg',\n  'version': 772839251,\n  'format': 'epub',\n  'type': 0,\n  'price': 20.0,\n  'originalPrice': 0,\n  'soldout': 0,\n  'bookStatus': 1,\n  'payType': 1048577,\n  'lastChapterCreateTime': 0,\n  'centPrice': 2000,\n  'finished': 1,\n  'maxFreeChapter': 6,\n  'free': 0,\n  'mcardDiscount': 0,\n  'ispub': 1,\n  'extra_type': 5,\n  'updateTime': 1693917209,\n  'publishTime': '2020-05-01 00:00:00',\n  'category': '个人成长-沟通表达',\n  'categories': [{'categoryId': 1000000,\n    'subCategoryId': 1000001,\n    'categoryType': 0,\n    'title': '个人成长-沟通表达'}],\n  'hasLecture': 0,\n  'lastChapterIdx': 26,\n  'paperBook': {'skuId': '12845872'},\n  'maxFreeInfo': {'maxFreeChapterIdx': 6,\n   'maxFreeChapterUid': 6,\n   'maxFreeChapterRatio': 26},\n  'copyrightChapterUids': [2],\n  'hasKeyPoint': True,\n  'blockSaveImg': 0,\n  'language': 'zh',\n  'hideUpdateTime': False,\n  'isEPUBComics': 0,\n  'webBookControl': 0,\n  'secret': 0,\n  'readUpdateTime': 1705395080,\n  'finishReading': 0,\n  'paid': 0},\n {'bookId': 'CB_2sV3wZ3xvC1u6li6ke91S9PW',\n  'title': '曾国藩传',\n  'author': '张宏杰',\n  'cover': 'https://res.weread.qq.com/wrepub/CB_CNcFZoFXi4NU6i06gYGeE42c_parsecover',\n  'version': 574584372,\n  'format': 'epub',\n  'type': 0,\n  'price': 0,\n  'originalPrice': 0,\n  'soldout': 0,\n  'bookStatus': 1,\n  'payType': 33,\n  'centPrice': 0,\n  'finished': 1,\n  'maxFreeChapter': 0,\n  'free': 1,\n  'mcardDiscount': 0,\n  'ispub': 0,\n  'lastChapterCreateTime': 0,\n  'publishTime': '',\n  'hasLecture': 0,\n  'lastChapterIdx': 25,\n  'paperBook': {'skuId': ''},\n  'maxFreeInfo': {'maxFreeChapterIdx': 0,\n   'maxFreeChapterUid': 0,\n   'maxFreeChapterRatio': 0},\n  'copyrightChapterUids': [],\n  'hasKeyPoint': False,\n  'limitShareChat': 0,\n  'inStoreBookId': '23774475',\n  'blockSaveImg': 0,\n  'language': 'zh',\n  'hideUpdateTime': False,\n  'isEPUBComics': 0,\n  'webBookControl': 0,\n  'secret': 1,\n  'readUpdateTime': 1705418514,\n  'finishReading': 0,\n  'paid': 0,\n  'updateTime': 1705392955},\n {'bookId': '822995',\n  'title': '明朝那些事儿（全集）',\n  'author': '当年明月',\n  'cover': 'https://cdn.weread.qq.com/weread/cover/97/yuewen_822995/s_yuewen_8229951695023669.jpg',\n  'version': 1133940382,\n  'format': 'epub',\n  'type': 0,\n  'price': 93.8,\n  'originalPrice': 0,\n  'soldout': 0,\n  'bookStatus': 1,\n  'payType': 4097,\n  'lastChapterCreateTime': 1683651002,\n  'centPrice': 9380,\n  'finished': 1,\n  'maxFreeChapter': 41,\n  'free': 0,\n  'mcardDiscount': 0,\n  'ispub': 1,\n  'extra_type': 5,\n  'updateTime': 1703165987,\n  'publishTime': '2011-12-01 00:00:00',\n  'category': '历史-历史读物',\n  'categories': [{'categoryId': 200000,\n    'subCategoryId': 200003,\n    'categoryType': 0,\n    'title': '历史-历史读物'}],\n  'hasLecture': 0,\n  'lPushName': '一本书让你爱上历史。',\n  'lastChapterIdx': 377,\n  'paperBook': {'skuId': '10850277'},\n  'maxFreeInfo': {'maxFreeChapterIdx': 41,\n   'maxFreeChapterUid': 41,\n   'maxFreeChapterRatio': 34},\n  'copyrightChapterUids': [2],\n  'hasKeyPoint': True,\n  'blockSaveImg': 0,\n  'language': 'zh',\n  'hideUpdateTime': False,\n  'isEPUBComics': 0,\n  'webBookControl': 0,\n  'secret': 0,\n  'readUpdateTime': 1704952322,\n  'finishReading': 0,\n  'paid': 1},\n {'bookId': 'CB_519AbzAbDC1u6li6keADS0AR',\n  'title': '可能性的艺术：比较政治学30讲（学者刘瑜比较政治学新著，跳出现象，通过比较洞察政治，突破认知偏见，在浩瀚的可能性中理解我们自身 理想国出品）',\n  'author': '刘瑜',\n  'cover': 'https://res.weread.qq.com/wrepub/CB_B9n4pX4qrFlb6i36gw02z0gt_parsecover',\n  'version': 1802942228,\n  'format': 'epub',\n  'type': 0,\n  'price': 0,\n  'originalPrice': 0,\n  'soldout': 0,\n  'bookStatus': 1,\n  'payType': 33,\n  'centPrice': 0,\n  'finished': 1,\n  'maxFreeChapter': 0,\n  'free': 1,\n  'mcardDiscount': 0,\n  'ispub': 0,\n  'lastChapterCreateTime': 0,\n  'publishTime': '',\n  'hasLecture': 0,\n  'lastChapterIdx': 41,\n  'paperBook': {'skuId': ''},\n  'maxFreeInfo': {'maxFreeChapterIdx': 0,\n   'maxFreeChapterUid': 0,\n   'maxFreeChapterRatio': 0},\n  'copyrightChapterUids': [],\n  'hasKeyPoint': True,\n  'limitShareChat': 0,\n  'inStoreBookId': '3300016646',\n  'blockSaveImg': 0,\n  'language': 'zh',\n  'hideUpdateTime': False,\n  'isEPUBComics': 0,\n  'webBookControl': 0,\n  'secret': 1,\n  'readUpdateTime': 1705671232,\n  'finishReading': 1,\n  'paid': 0,\n  'updateTime': 1705418587},\n {'bookId': '718499',\n  'title': '忆风舞，情一诺',\n  'author': '猫音',\n  'cover': 'https://cdn.weread.qq.com/weread/cover/34/yuewen_718499/s_yuewen_7184991703749098.jpg',\n  'version': 0,\n  'format': 'txt',\n  'type': 0,\n  'price': -1,\n  'originalPrice': 0,\n  'soldout': 1,\n  'bookStatus': 2,\n  'payType': 2,\n  'lastChapterCreateTime': 1442912537,\n  'centPrice': 1665,\n  'finished': 1,\n  'maxFreeChapter': 30,\n  'free': 0,\n  'mcardDiscount': 20,\n  'ispub': 2,\n  'extra_type': 1,\n  'updateTime': 1703749099,\n  'publishTime': '2013-09-01 00:00:00',\n  'paid': 1,\n  'category': '女生小说-古代言情',\n  'categories': [{'categoryId': 2000000,\n    'subCategoryId': 2000005,\n    'categoryType': 2,\n    'title': '女生小说-古代言情'}],\n  'hasLecture': 0,\n  'lastChapterIdx': 122,\n  'paperBook': {'skuId': '11309247'},\n  'maxFreeInfo': {'maxFreeChapterIdx': 30,\n   'maxFreeChapterUid': 30,\n   'maxFreeChapterRatio': 100},\n  'copyrightChapterUids': [],\n  'hasKeyPoint': False,\n  'blockSaveImg': 0,\n  'language': 'zh',\n  'hideUpdateTime': True,\n  'isEPUBComics': 0,\n  'webBookControl': 0,\n  'secret': 1,\n  'readUpdateTime': 1445484483,\n  'finishReading': 0},\n {'bookId': '609134',\n  'title': '未来不迎，过往不恋',\n  'author': '苏辛',\n  'cover': 'https://wfqqreader-1252317822.image.myqcloud.com/cover/134/609134/s_609134.jpg',\n  'version': 0,\n  'format': 'txt',\n  'type': 0,\n  'price': 2.0,\n  'originalPrice': 0,\n  'soldout': 1,\n  'bookStatus': 1,\n  'payType': 1,\n  'lastChapterCreateTime': 1555470274,\n  'centPrice': 200,\n  'finished': 1,\n  'maxFreeChapter': 3,\n  'free': 0,\n  'mcardDiscount': 0,\n  'ispub': 1,\n  'extra_type': 1,\n  'updateTime': 1527840580,\n  'publishTime': '2014-05-01 00:00:00',\n  'category': '文学-散文杂著',\n  'categories': [{'categoryId': 300000,\n    'subCategoryId': 300005,\n    'categoryType': 0,\n    'title': '文学-散文杂著'}],\n  'hasLecture': 0,\n  'lastChapterIdx': 5,\n  'paperBook': {'skuId': '11436305'},\n  'maxFreeInfo': {'maxFreeChapterIdx': 3,\n   'maxFreeChapterUid': 7,\n   'maxFreeChapterRatio': 100},\n  'copyrightChapterUids': [],\n  'hasKeyPoint': False,\n  'blockSaveImg': 0,\n  'language': 'zh',\n  'hideUpdateTime': True,\n  'isEPUBComics': 0,\n  'webBookControl': 0,\n  'secret': 1,\n  'readUpdateTime': 1445482494,\n  'finishReading': 0,\n  'paid': 1},\n {'bookId': '748278',\n  'title': '秘密花园：THE SECRET GARDEN（英文原版）',\n  'author': '伯内特',\n  'cover': 'https://cdn.weread.qq.com/weread/cover/76/YueWen_748278/s_YueWen_748278.jpg',\n  'version': 1344232907,\n  'format': 'epub',\n  'type': 0,\n  'price': 3.99,\n  'originalPrice': 0,\n  'soldout': 0,\n  'bookStatus': 1,\n  'payType': 4097,\n  'lastChapterCreateTime': 1695700533,\n  'centPrice': 399,\n  'finished': 1,\n  'maxFreeChapter': 6,\n  'free': 0,\n  'mcardDiscount': 0,\n  'ispub': 1,\n  'extra_type': 5,\n  'updateTime': 1695701429,\n  'publishTime': '2015-11-01 00:00:00',\n  'category': '原版书-英文原版',\n  'categories': [{'categoryId': 1800000,\n    'subCategoryId': 1800001,\n    'categoryType': 0,\n    'title': '原版书-英文原版'}],\n  'hasLecture': 1,\n  'lastChapterIdx': 29,\n  'paperBook': {'skuId': '11798258'},\n  'maxFreeInfo': {'maxFreeChapterIdx': 6,\n   'maxFreeChapterUid': 34,\n   'maxFreeChapterRatio': 36},\n  'otherType': [{'type': 'epub',\n    'showType': True,\n    'translateStatus': 'close',\n    'translateDone': True}],\n  'copyrightChapterUids': [30],\n  'hasKeyPoint': False,\n  'blockSaveImg': 0,\n  'language': 'en',\n  'hideUpdateTime': False,\n  'isEPUBComics': 0,\n  'webBookControl': 0,\n  'secret': 0,\n  'readUpdateTime': 1455584562,\n  'finishReading': 0,\n  'paid': 1},\n {'bookId': '3300016646',\n  'title': '可能性的艺术：比较政治学30讲',\n  'author': '刘瑜',\n  'cover': 'https://cdn.weread.qq.com/weread/cover/46/3300016646/s_3300016646.jpg',\n  'version': 1978795790,\n  'format': 'epub',\n  'type': 0,\n  'price': 57.4,\n  'originalPrice': 0,\n  'soldout': 0,\n  'bookStatus': 1,\n  'payType': 1048577,\n  'lastChapterCreateTime': 1682183107,\n  'centPrice': 5740,\n  'finished': 1,\n  'maxFreeChapter': 7,\n  'free': 0,\n  'mcardDiscount': 0,\n  'ispub': 1,\n  'extra_type': 5,\n  'updateTime': 1694008857,\n  'publishTime': '2022-04-01 00:00:00',\n  'category': '政治军事-政治',\n  'categories': [{'categoryId': 1200000,\n    'subCategoryId': 1200002,\n    'categoryType': 0,\n    'title': '政治军事-政治'}],\n  'hasLecture': 0,\n  'lastChapterIdx': 39,\n  'paperBook': {'skuId': '13714992'},\n  'maxFreeInfo': {'maxFreeChapterIdx': 7,\n   'maxFreeChapterUid': 73,\n   'maxFreeChapterRatio': 81},\n  'copyrightChapterUids': [68],\n  'hasKeyPoint': True,\n  'blockSaveImg': 0,\n  'language': 'zh',\n  'hideUpdateTime': False,\n  'isEPUBComics': 0,\n  'webBookControl': 0,\n  'secret': 0,\n  'readUpdateTime': 1705500587,\n  'finishReading': 0,\n  'paid': 0},\n {'bookId': '3300070929',\n  'title': '埃隆·马斯克传',\n  'author': '沃尔特·艾萨克森',\n  'translator': '孙思远 刘家琦',\n  'cover': 'https://cdn.weread.qq.com/weread/cover/37/cpplatform_gmaqcuuuamjkvu7knomjim/s_cpplatform_gmaqcuuuamjkvu7knomjim1703077934.jpg',\n  'version': 966430902,\n  'format': 'epub',\n  'type': 0,\n  'price': 69.0,\n  'originalPrice': 0,\n  'soldout': 0,\n  'bookStatus': 1,\n  'payType': 1,\n  'lastChapterCreateTime': 1703052622,\n  'centPrice': 6900,\n  'finished': 1,\n  'maxFreeChapter': 13,\n  'free': 0,\n  'mcardDiscount': 0,\n  'ispub': 1,\n  'extra_type': 5,\n  'updateTime': 1703077934,\n  'publishTime': '2023-09-01 00:00:00',\n  'category': '人物传记-财经人物',\n  'categories': [{'categoryId': 500000,\n    'subCategoryId': 500001,\n    'categoryType': 0,\n    'title': '人物传记-财经人物'}],\n  'hasLecture': 0,\n  'shouldHideTTS': 1,\n  'lastChapterIdx': 101,\n  'paperBook': {'skuId': ''},\n  'maxFreeInfo': {'maxFreeChapterIdx': 13,\n   'maxFreeChapterUid': 26,\n   'maxFreeChapterRatio': 100},\n  'copyrightChapterUids': [15],\n  'hasKeyPoint': False,\n  'blockSaveImg': 0,\n  'language': 'zh',\n  'hideUpdateTime': False,\n  'isEPUBComics': 0,\n  'webBookControl': 1,\n  'secret': 0,\n  'readUpdateTime': 1705671212,\n  'finishReading': 0,\n  'paid': 0},\n {'bookId': '23791375',\n  'title': '蝇王',\n  'author': '威廉·戈尔丁',\n  'translator': '龚志成',\n  'cover': 'https://cdn.weread.qq.com/weread/cover/59/YueWen_23791375/s_YueWen_23791375.jpg',\n  'version': 263490319,\n  'format': 'epub',\n  'type': 0,\n  'price': 38.99,\n  'originalPrice': 0,\n  'soldout': 0,\n  'bookStatus': 1,\n  'payType': 1048577,\n  'lastChapterCreateTime': 1704909003,\n  'centPrice': 3899,\n  'finished': 1,\n  'maxFreeChapter': 6,\n  'free': 0,\n  'mcardDiscount': 0,\n  'ispub': 1,\n  'extra_type': 5,\n  'updateTime': 1704909901,\n  'publishTime': '2014-12-01 00:00:00',\n  'category': '文学-外国文学',\n  'categories': [{'categoryId': 300000,\n    'subCategoryId': 300013,\n    'categoryType': 0,\n    'title': '文学-外国文学'},\n   {'categoryId': 300000,\n    'subCategoryId': 300014,\n    'categoryType': 0,\n    'title': '文学-世界名著'}],\n  'hasLecture': 0,\n  'lastChapterIdx': 17,\n  'paperBook': {'skuId': '13219706'},\n  'maxFreeInfo': {'maxFreeChapterIdx': 6,\n   'maxFreeChapterUid': 21,\n   'maxFreeChapterRatio': 15},\n  'copyrightChapterUids': [17],\n  'hasKeyPoint': False,\n  'blockSaveImg': 0,\n  'language': 'zh',\n  'hideUpdateTime': False,\n  'isEPUBComics': 0,\n  'webBookControl': 0,\n  'secret': 0,\n  'readUpdateTime': 1705594532,\n  'finishReading': 0,\n  'paid': 0},\n {'bookId': '3300071803',\n  'title': '门阀|“中古第一家族”琅琊王氏传承千年的成事智慧（独家首发）',\n  'author': '南朝',\n  'cover': 'https://cdn.weread.qq.com/weread/cover/45/cpplatform_q1oinarbezg6tjknar2frm/s_cpplatform_q1oinarbezg6tjknar2frm1695374996.jpg',\n  'version': 731539847,\n  'format': 'epub',\n  'type': 0,\n  'price': 45.0,\n  'originalPrice': 0,\n  'soldout': 0,\n  'bookStatus': 1,\n  'payType': 4097,\n  'lastChapterCreateTime': 1695374999,\n  'centPrice': 4500,\n  'finished': 1,\n  'maxFreeChapter': 7,\n  'free': 0,\n  'mcardDiscount': 0,\n  'ispub': 1,\n  'extra_type': 5,\n  'updateTime': 1696738454,\n  'publishTime': '2023-07-01 00:00:00',\n  'category': '历史-历史小说',\n  'categories': [{'categoryId': 200000,\n    'subCategoryId': 200004,\n    'categoryType': 0,\n    'title': '历史-历史小说'}],\n  'hasLecture': 0,\n  'lastChapterIdx': 62,\n  'paperBook': {'skuId': ''},\n  'maxFreeInfo': {'maxFreeChapterIdx': 7,\n   'maxFreeChapterUid': 7,\n   'maxFreeChapterRatio': 8},\n  'copyrightChapterUids': [2],\n  'hasKeyPoint': False,\n  'blockSaveImg': 0,\n  'language': 'zh',\n  'hideUpdateTime': False,\n  'isEPUBComics': 0,\n  'webBookControl': 0,\n  'secret': 0,\n  'readUpdateTime': 1704874684,\n  'finishReading': 0,\n  'paid': 0},\n {'bookId': '165470',\n  'title': '边城',\n  'author': '沈从文',\n  'cover': 'https://cdn.weread.qq.com/weread/cover/25/yuewen_165470/s_yuewen_1654701703658251.jpg',\n  'version': 0,\n  'format': 'txt',\n  'type': 0,\n  'price': 0,\n  'originalPrice': 0,\n  'soldout': 1,\n  'bookStatus': 1,\n  'payType': 33,\n  'lastChapterCreateTime': 1462788512,\n  'centPrice': 0,\n  'finished': 1,\n  'maxFreeChapter': 5,\n  'free': 1,\n  'mcardDiscount': 0,\n  'ispub': 1,\n  'updateTime': 1462771949,\n  'publishTime': '1970-01-01 00:00:00.0',\n  'category': '精品小说-社会小说',\n  'categories': [{'categoryId': 100000,\n    'subCategoryId': 100001,\n    'categoryType': 0,\n    'title': '精品小说-社会小说'}],\n  'hasLecture': 0,\n  'lastChapterIdx': 26,\n  'paperBook': {'skuId': ''},\n  'maxFreeInfo': {'maxFreeChapterIdx': 5,\n   'maxFreeChapterUid': 15,\n   'maxFreeChapterRatio': 100},\n  'copyrightChapterUids': [],\n  'hasKeyPoint': False,\n  'blockSaveImg': 0,\n  'language': 'zh',\n  'hideUpdateTime': True,\n  'isEPUBComics': 0,\n  'webBookControl': 0,\n  'secret': 0,\n  'readUpdateTime': 1446612800,\n  'finishReading': 0,\n  'paid': 1},\n {'bookId': '43896728',\n  'title': '不能承受的生命之轻（米兰·昆德拉作品系列·2022版）',\n  'author': '[法]米兰·昆德拉',\n  'translator': '许钧',\n  'cover': 'https://cdn.weread.qq.com/weread/cover/3/YueWen_43896728/s_YueWen_43896728.jpg',\n  'version': 1266999731,\n  'format': 'epub',\n  'type': 0,\n  'price': 87.99,\n  'originalPrice': 0,\n  'soldout': 0,\n  'bookStatus': 1,\n  'payType': 1048577,\n  'lastChapterCreateTime': 1691603999,\n  'centPrice': 8799,\n  'finished': 1,\n  'maxFreeChapter': 20,\n  'free': 0,\n  'mcardDiscount': 0,\n  'ispub': 1,\n  'extra_type': 5,\n  'updateTime': 1704873738,\n  'publishTime': '2022-04-01 00:00:00',\n  'category': '文学-外国文学',\n  'categories': [{'categoryId': 300000,\n    'subCategoryId': 300013,\n    'categoryType': 0,\n    'title': '文学-外国文学'}],\n  'hasLecture': 1,\n  'lPushName': '一切都是马上经历，仅此一次，不能准备。',\n  'lastChapterIdx': 156,\n  'paperBook': {'skuId': '13697490'},\n  'maxFreeInfo': {'maxFreeChapterIdx': 20,\n   'maxFreeChapterUid': 176,\n   'maxFreeChapterRatio': 18},\n  'copyrightChapterUids': [158],\n  'hasKeyPoint': False,\n  'blockSaveImg': 0,\n  'language': 'zh-CN',\n  'hideUpdateTime': False,\n  'isEPUBComics': 0,\n  'webBookControl': 0,\n  'secret': 0,\n  'readUpdateTime': 1704874347,\n  'finishReading': 0,\n  'paid': 0}]"
     },
     "execution_count": 22,
     "metadata": {},
     "output_type": "execute_result"
    }
   ],
   "source": [
    "data['books']"
   ],
   "metadata": {
    "collapsed": false,
    "ExecuteTime": {
     "end_time": "2024-01-19T14:25:46.693464Z",
     "start_time": "2024-01-19T14:25:46.687685Z"
    }
   }
  },
  {
   "cell_type": "code",
   "execution_count": 23,
   "outputs": [
    {
     "data": {
      "text/plain": "dict_keys(['bookId', 'title', 'author', 'translator', 'cover', 'version', 'format', 'type', 'price', 'originalPrice', 'soldout', 'bookStatus', 'payType', 'lastChapterCreateTime', 'centPrice', 'finished', 'maxFreeChapter', 'free', 'mcardDiscount', 'ispub', 'extra_type', 'updateTime', 'publishTime', 'category', 'categories', 'hasLecture', 'lastChapterIdx', 'paperBook', 'maxFreeInfo', 'copyrightChapterUids', 'hasKeyPoint', 'blockSaveImg', 'language', 'hideUpdateTime', 'isEPUBComics', 'webBookControl', 'secret', 'readUpdateTime', 'finishReading', 'paid'])"
     },
     "execution_count": 23,
     "metadata": {},
     "output_type": "execute_result"
    }
   ],
   "source": [
    "data['books'][0].keys()"
   ],
   "metadata": {
    "collapsed": false,
    "ExecuteTime": {
     "end_time": "2024-01-19T14:26:05.285042Z",
     "start_time": "2024-01-19T14:26:05.277178Z"
    }
   }
  },
  {
   "cell_type": "code",
   "execution_count": 7,
   "outputs": [],
   "source": [
    "bookWithNote = weread_api.get_notebooklist()"
   ],
   "metadata": {
    "collapsed": false,
    "ExecuteTime": {
     "end_time": "2024-01-19T13:10:06.826198Z",
     "start_time": "2024-01-19T13:10:06.071057Z"
    }
   }
  },
  {
   "cell_type": "code",
   "execution_count": 8,
   "outputs": [
    {
     "data": {
      "text/plain": "dict_keys(['bookId', 'book', 'reviewCount', 'reviewLikeCount', 'reviewCommentCount', 'noteCount', 'bookmarkCount', 'sort'])"
     },
     "execution_count": 8,
     "metadata": {},
     "output_type": "execute_result"
    }
   ],
   "source": [
    "bookWithNote[0].keys()"
   ],
   "metadata": {
    "collapsed": false,
    "ExecuteTime": {
     "end_time": "2024-01-19T13:10:06.836072Z",
     "start_time": "2024-01-19T13:10:06.830579Z"
    }
   }
  },
  {
   "cell_type": "code",
   "execution_count": 9,
   "outputs": [
    {
     "data": {
      "text/plain": "['165470', '43896728', '3300070929', 'CB_519AbzAbDC1u6li6keADS0AR']"
     },
     "execution_count": 9,
     "metadata": {},
     "output_type": "execute_result"
    }
   ],
   "source": [
    "booksWithNotesIDList = [x['bookId'] for x in bookWithNote]\n",
    "booksWithNotesIDList"
   ],
   "metadata": {
    "collapsed": false,
    "ExecuteTime": {
     "end_time": "2024-01-19T13:10:08.147959Z",
     "start_time": "2024-01-19T13:10:08.136467Z"
    }
   }
  },
  {
   "cell_type": "code",
   "execution_count": 10,
   "outputs": [
    {
     "data": {
      "text/plain": "dict_keys(['bookId', 'title', 'author', 'translator', 'cover', 'version', 'format', 'type', 'price', 'originalPrice', 'soldout', 'bookStatus', 'payType', 'centPrice', 'finished', 'maxFreeChapter', 'free', 'mcardDiscount', 'ispub', 'extra_type', 'cpid', 'publishTime', 'categories', 'hasLecture', 'lastChapterIdx', 'paperBook', 'maxFreeInfo', 'copyrightChapterUids', 'hasKeyPoint', 'blockSaveImg', 'language', 'hideUpdateTime', 'isEPUBComics', 'webBookControl', 'readUpdateTime', 'secret'])"
     },
     "execution_count": 10,
     "metadata": {},
     "output_type": "execute_result"
    }
   ],
   "source": [
    "recentBooks[0].keys() # no sort"
   ],
   "metadata": {
    "collapsed": false,
    "ExecuteTime": {
     "end_time": "2024-01-19T13:10:09.286656Z",
     "start_time": "2024-01-19T13:10:09.269295Z"
    }
   }
  },
  {
   "cell_type": "code",
   "execution_count": 23,
   "outputs": [
    {
     "data": {
      "text/plain": "36"
     },
     "execution_count": 23,
     "metadata": {},
     "output_type": "execute_result"
    }
   ],
   "source": [
    "len(recentBooks[0].keys())"
   ],
   "metadata": {
    "collapsed": false,
    "ExecuteTime": {
     "end_time": "2024-01-19T12:09:49.236174Z",
     "start_time": "2024-01-19T12:09:49.227342Z"
    }
   }
  },
  {
   "cell_type": "code",
   "execution_count": 22,
   "outputs": [
    {
     "data": {
      "text/plain": "32"
     },
     "execution_count": 22,
     "metadata": {},
     "output_type": "execute_result"
    }
   ],
   "source": [
    "len(set(recentBooks[0].keys()).intersection(bookWithNote[0]['book'].keys()))"
   ],
   "metadata": {
    "collapsed": false,
    "ExecuteTime": {
     "end_time": "2024-01-19T12:09:38.238170Z",
     "start_time": "2024-01-19T12:09:38.229821Z"
    }
   }
  },
  {
   "cell_type": "code",
   "execution_count": 39,
   "outputs": [
    {
     "name": "stdout",
     "output_type": "stream",
     "text": [
      "{'bookId': '43896728', 'title': '不能承受的生命之轻（米兰·昆德拉作品系列·2022版）', 'author': '[法]米兰·昆德拉', 'translator': '许钧', 'cover': 'https://cdn.weread.qq.com/weread/cover/3/YueWen_43896728/s_YueWen_43896728.jpg', 'version': 1266999731, 'format': 'epub', 'type': 0, 'price': 87.99, 'originalPrice': 0, 'soldout': 0, 'bookStatus': 1, 'payType': 1048577, 'lastChapterCreateTime': 1691603999, 'centPrice': 8799, 'finished': 1, 'maxFreeChapter': 20, 'free': 0, 'mcardDiscount': 0, 'ispub': 1, 'extra_type': 5, 'updateTime': 1704873738, 'publishTime': '2022-04-01 00:00:00', 'category': '文学-外国文学', 'categories': [{'categoryId': 300000, 'subCategoryId': 300013, 'categoryType': 0, 'title': '文学-外国文学'}], 'hasLecture': 1, 'lPushName': '一切都是马上经历，仅此一次，不能准备。', 'lastChapterIdx': 156, 'paperBook': {'skuId': '13697490'}, 'maxFreeInfo': {'maxFreeChapterIdx': 20, 'maxFreeChapterUid': 176, 'maxFreeChapterRatio': 18}, 'copyrightChapterUids': [158], 'hasKeyPoint': False, 'blockSaveImg': 0, 'language': 'zh-CN', 'hideUpdateTime': False, 'isEPUBComics': 0, 'webBookControl': 0, 'secret': 0, 'readUpdateTime': 1704874347, 'finishReading': 0, 'paid': 0}\n"
     ]
    }
   ],
   "source": [
    "for x in bookshelf:\n",
    "    if x['bookId'] == '43896728':\n",
    "        print(x)"
   ],
   "metadata": {
    "collapsed": false,
    "ExecuteTime": {
     "end_time": "2024-01-19T15:30:48.539532Z",
     "start_time": "2024-01-19T15:30:48.527292Z"
    }
   }
  },
  {
   "cell_type": "code",
   "execution_count": 11,
   "outputs": [
    {
     "data": {
      "text/plain": "[]"
     },
     "execution_count": 11,
     "metadata": {},
     "output_type": "execute_result"
    }
   ],
   "source": [
    "finishReadBooks"
   ],
   "metadata": {
    "collapsed": false,
    "ExecuteTime": {
     "end_time": "2024-01-19T13:24:41.248500Z",
     "start_time": "2024-01-19T13:24:41.242339Z"
    }
   }
  },
  {
   "cell_type": "code",
   "execution_count": 13,
   "outputs": [],
   "source": [
    "recentBooksIDList = [b['bookId'] for b in recentBooks]"
   ],
   "metadata": {
    "collapsed": false,
    "ExecuteTime": {
     "end_time": "2024-01-19T13:29:40.219637Z",
     "start_time": "2024-01-19T13:29:40.212193Z"
    }
   }
  },
  {
   "cell_type": "code",
   "execution_count": 14,
   "outputs": [],
   "source": [
    "common_elements = list(filter(lambda x: x in recentBooksIDList, booksWithNotesIDList))"
   ],
   "metadata": {
    "collapsed": false,
    "ExecuteTime": {
     "end_time": "2024-01-19T13:29:45.287130Z",
     "start_time": "2024-01-19T13:29:45.281778Z"
    }
   }
  },
  {
   "cell_type": "code",
   "execution_count": 15,
   "outputs": [
    {
     "data": {
      "text/plain": "['165470', '43896728', '3300070929']"
     },
     "execution_count": 15,
     "metadata": {},
     "output_type": "execute_result"
    }
   ],
   "source": [
    "common_elements"
   ],
   "metadata": {
    "collapsed": false,
    "ExecuteTime": {
     "end_time": "2024-01-19T13:29:50.729042Z",
     "start_time": "2024-01-19T13:29:50.725926Z"
    }
   }
  }
 ],
 "metadata": {
  "kernelspec": {
   "display_name": "Python 3",
   "language": "python",
   "name": "python3"
  },
  "language_info": {
   "codemirror_mode": {
    "name": "ipython",
    "version": 2
   },
   "file_extension": ".py",
   "mimetype": "text/x-python",
   "name": "python",
   "nbconvert_exporter": "python",
   "pygments_lexer": "ipython2",
   "version": "2.7.6"
  }
 },
 "nbformat": 4,
 "nbformat_minor": 0
}
